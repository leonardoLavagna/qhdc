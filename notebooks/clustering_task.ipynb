{
  "nbformat": 4,
  "nbformat_minor": 0,
  "metadata": {
    "colab": {
      "provenance": []
    },
    "kernelspec": {
      "name": "python3",
      "display_name": "Python 3"
    },
    "language_info": {
      "name": "python"
    }
  },
  "cells": [
    {
      "cell_type": "markdown",
      "source": [
        "#notebooks.clustering_task"
      ],
      "metadata": {
        "id": "xmHqwl6_Cwip"
      }
    },
    {
      "cell_type": "code",
      "source": [
        "from sklearn.cluster import KMeans\n",
        "import numpy as np\n",
        "from functions.circuits_utilities import generate_random_circuit_from_sequence, measure_zero_probability"
      ],
      "metadata": {
        "id": "7gjSvdGa2wnf"
      },
      "execution_count": 8,
      "outputs": []
    },
    {
      "cell_type": "code",
      "source": [
        "dna_sequences = ['GTAAA', 'GTTCCGCCA', 'CTGTCT', 'TGATGCACA', 'TACACACAGA',\n",
        "                 'ACAATCG', 'GTCAATGGCC', 'CCA', 'GCGC', 'GCTTGACGG']"
      ],
      "metadata": {
        "id": "XAB0IYhlzeMd"
      },
      "execution_count": 9,
      "outputs": []
    },
    {
      "cell_type": "code",
      "execution_count": 11,
      "metadata": {
        "colab": {
          "base_uri": "https://localhost:8080/"
        },
        "id": "ri7yrKLIwfAt",
        "outputId": "9d20a20b-89ea-4872-b4fc-8c7611ff9977"
      },
      "outputs": [
        {
          "output_type": "stream",
          "name": "stdout",
          "text": [
            "Sequence: GTAAA, Cluster: 2\n",
            "Sequence: GTTCCGCCA, Cluster: 1\n",
            "Sequence: CTGTCT, Cluster: 0\n",
            "Sequence: TGATGCACA, Cluster: 1\n",
            "Sequence: TACACACAGA, Cluster: 2\n",
            "Sequence: ACAATCG, Cluster: 1\n",
            "Sequence: GTCAATGGCC, Cluster: 1\n",
            "Sequence: CCA, Cluster: 2\n",
            "Sequence: GCGC, Cluster: 0\n",
            "Sequence: GCTTGACGG, Cluster: 0\n"
          ]
        }
      ],
      "source": [
        "probabilities = []\n",
        "for sequence in dna_sequences:\n",
        "    qc = generate_random_circuit_from_sequence(sequence)\n",
        "    p_zero = measure_zero_probability(qc)\n",
        "    probabilities.append(p_zero)\n",
        "\n",
        "# Perform Clustering using k-means clustering with the measured probabilities\n",
        "kmeans = KMeans(n_clusters=3)\n",
        "clusters = kmeans.fit_predict(np.array(probabilities).reshape(-1, 1))\n",
        "for sequence, cluster in zip(dna_sequences, clusters):\n",
        "    print(f\"Sequence: {sequence}, Cluster: {cluster}\")"
      ]
    }
  ]
}