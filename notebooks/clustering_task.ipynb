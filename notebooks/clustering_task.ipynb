{
  "nbformat": 4,
  "nbformat_minor": 0,
  "metadata": {
    "colab": {
      "provenance": []
    },
    "kernelspec": {
      "name": "python3",
      "display_name": "Python 3"
    },
    "language_info": {
      "name": "python"
    }
  },
  "cells": [
    {
      "cell_type": "markdown",
      "source": [
        "#notebooks.clustering_task"
      ],
      "metadata": {
        "id": "xmHqwl6_Cwip"
      }
    },
    {
      "cell_type": "code",
      "source": [
        "from sklearn.cluster import KMeans\n",
        "import numpy as np\n",
        "from functions.circuits_utilities import generate_random_circuit_from_sequence, measure_zero_probability\n",
        "from functions.QUAM import *"
      ],
      "metadata": {
        "id": "7gjSvdGa2wnf"
      },
      "execution_count": 24,
      "outputs": []
    },
    {
      "cell_type": "code",
      "source": [
        "# Global variable: number of clusters\n",
        "k = 3\n",
        "\n",
        "# Example dataset\n",
        "dna_sequences = ['GTA', 'GTT', 'CT', 'TAC']\n",
        "#dna_sequences = ['GTAAA', 'GTTCCGCCA', 'CTGTCT', 'TGATGCACA', 'TACACACAGA',\n",
        "#                'ACAATCG', 'GTCAATGGCC', 'CCA', 'GCGC', 'GCTTGACGG']"
      ],
      "metadata": {
        "id": "nCWIumkUXYyC"
      },
      "execution_count": 25,
      "outputs": []
    },
    {
      "cell_type": "markdown",
      "source": [
        "## Quam-based architecture"
      ],
      "metadata": {
        "id": "0Dhh_TcoDx24"
      }
    },
    {
      "cell_type": "code",
      "source": [
        "def dna_to_binary(sequence, max_length=2):\n",
        "    \"\"\"\n",
        "    Convert a DNA sequence to a binary representation.\n",
        "    Each nucleotide is mapped to a 2-bit binary string:\n",
        "    A -> 00, T -> 01, G -> 10, C -> 11\n",
        "    \"\"\"\n",
        "    mapping = {'A': '00', 'T': '01', 'G': '10', 'C': '11'}\n",
        "    binary_sequence = ''.join(mapping[nuc] for nuc in sequence)\n",
        "    binary_sequence = binary_sequence[:max_length*2].ljust(max_length*2, '0')\n",
        "    return binary_sequence"
      ],
      "metadata": {
        "id": "3v90SBW7Dfw7"
      },
      "execution_count": 26,
      "outputs": []
    },
    {
      "cell_type": "code",
      "source": [
        "def cluster_dna_sequences(dna_sequences):\n",
        "    \"\"\"\n",
        "    Cluster DNA sequences the QuAM-based architecture.\n",
        "    \"\"\"\n",
        "    max_length = max([len(seq) for seq in dna_sequences])\n",
        "    binary_patterns = [dna_to_binary(seq, max_length) for seq in dna_sequences]\n",
        "    clusters = {}\n",
        "    for i, query_pattern in enumerate(binary_patterns):\n",
        "        state, data = QuAM(binary_patterns, search=query_pattern)\n",
        "        similar_patterns = [pattern for pattern, count in data.items() if count > 0]\n",
        "        for pattern in similar_patterns:\n",
        "            if pattern not in clusters:\n",
        "                clusters[pattern] = []\n",
        "            clusters[pattern].append(dna_sequences[i])\n",
        "    return clusters"
      ],
      "metadata": {
        "id": "5AxfhDYZPmwU"
      },
      "execution_count": 27,
      "outputs": []
    },
    {
      "cell_type": "code",
      "source": [
        "clusters = cluster_dna_sequences(dna_sequences)\n",
        "#for cluster_id, sequences in clusters.items():\n",
        "#    print(f\"Cluster {cluster_id}: {sequences}\")"
      ],
      "metadata": {
        "id": "HTI87c9aEzyf"
      },
      "execution_count": 28,
      "outputs": []
    },
    {
      "cell_type": "code",
      "source": [
        "# List of all unique sequences\n",
        "all_sequences = sorted(set(seq for cluster in clusters.values() for seq in cluster))\n",
        "\n",
        "# Create a binary matrix where each sequence is a row and each cluster is a column\n",
        "sequence_to_index = {seq: i for i, seq in enumerate(all_sequences)}\n",
        "cluster_to_index = {cluster_id: i for i, cluster_id in enumerate(clusters.keys())}\n",
        "\n",
        "# Initialize a binary matrix for sequences and clusters\n",
        "binary_matrix = np.zeros((len(all_sequences), len(clusters)))\n",
        "\n",
        "# Fill the binary matrix (1 if the sequence is part of the cluster, else 0)\n",
        "for cluster_id, sequences in clusters.items():\n",
        "    cluster_index = cluster_to_index[cluster_id]\n",
        "    for seq in sequences:\n",
        "        sequence_index = sequence_to_index[seq]\n",
        "        binary_matrix[sequence_index, cluster_index] = 1\n",
        "\n",
        "# Apply K-Means clustering to the binary matrix\n",
        "kmeans = KMeans(n_clusters=k, random_state=42)\n",
        "labels = kmeans.fit_predict(binary_matrix)\n",
        "for seq, cluster_label in zip(all_sequences, labels):\n",
        "    print(f\"Sequence: {seq}, Cluster: {cluster_label}\")"
      ],
      "metadata": {
        "colab": {
          "base_uri": "https://localhost:8080/"
        },
        "id": "OqKwq3erYV0x",
        "outputId": "60c26748-da65-4e62-e2d1-e2c17b05c11a"
      },
      "execution_count": 29,
      "outputs": [
        {
          "output_type": "stream",
          "name": "stdout",
          "text": [
            "Sequence: CT, Cluster: 2\n",
            "Sequence: GTA, Cluster: 0\n",
            "Sequence: GTT, Cluster: 2\n",
            "Sequence: TAC, Cluster: 1\n"
          ]
        }
      ]
    },
    {
      "cell_type": "markdown",
      "source": [
        "## Circuit-based architecture"
      ],
      "metadata": {
        "id": "Zcb-V9SmDMLN"
      }
    },
    {
      "cell_type": "code",
      "execution_count": 30,
      "metadata": {
        "colab": {
          "base_uri": "https://localhost:8080/"
        },
        "id": "ri7yrKLIwfAt",
        "outputId": "41f1a398-15da-49b0-957c-15f5a386c1b4"
      },
      "outputs": [
        {
          "output_type": "stream",
          "name": "stdout",
          "text": [
            "Sequence: GTA, Cluster: 0\n",
            "Sequence: GTT, Cluster: 1\n",
            "Sequence: CT, Cluster: 2\n",
            "Sequence: TAC, Cluster: 0\n"
          ]
        }
      ],
      "source": [
        "probabilities = []\n",
        "for sequence in dna_sequences:\n",
        "    qc = generate_random_circuit_from_sequence(sequence)\n",
        "    p_zero = measure_zero_probability(qc)\n",
        "    probabilities.append(p_zero)\n",
        "\n",
        "kmeans = KMeans(n_clusters=k)\n",
        "clusters = kmeans.fit_predict(np.array(probabilities).reshape(-1, 1))\n",
        "for sequence, cluster in zip(dna_sequences, clusters):\n",
        "    print(f\"Sequence: {sequence}, Cluster: {cluster}\")"
      ]
    }
  ]
}