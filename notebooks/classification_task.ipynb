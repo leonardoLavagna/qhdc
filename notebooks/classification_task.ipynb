{
 "cells": [
  {
   "cell_type": "markdown",
   "metadata": {
    "id": "ktvqF_-gybHl"
   },
   "source": [
    "# notebooks.classification_task"
   ]
  },
  {
   "cell_type": "markdown",
   "metadata": {
    "id": "SGXIjYgxyj0k"
   },
   "source": [
    "We start with a bit-string similarity problem related to protozoan mithocondrial genetic codes extracted from https://www.bioinformatics.org/sms2/genetic_code.html."
   ]
  },
  {
   "cell_type": "code",
   "execution_count": 2,
   "metadata": {
    "id": "8czdyCNXyfhE"
   },
   "outputs": [],
   "source": [
    "import math\n",
    "import hashlib\n",
    "import operator"
   ]
  },
  {
   "cell_type": "code",
   "execution_count": 4,
   "metadata": {
    "id": "33Afk6cD1kn-"
   },
   "outputs": [],
   "source": [
    "YEAST     = \"----------------------------------MM----------------------------\"\n",
    "PROTOZOAN = \"--MM---------------M------------MMMM---------------M------------\"\n",
    "BACTERIAL = \"---M---------------M------------MMMM---------------M------------\"\n",
    "codes = {\"YEAST\": YEAST,\"PROTOZOAN\": PROTOZOAN,\"BACTERIAL\":BACTERIAL}"
   ]
  },
  {
   "cell_type": "code",
   "execution_count": 15,
   "metadata": {
    "id": "QUjvVofB1XOr"
   },
   "outputs": [],
   "source": [
    "def compress(binary_string, k):\n",
    "    \"\"\"\n",
    "    Compress a binary string to a fixed length k using SHA-256 hashing.\n",
    "\n",
    "    Args:\n",
    "        binary_string (str): The binary string to be compressed.\n",
    "        k (int): The length of the compressed binary string.\n",
    "\n",
    "    Returns:\n",
    "        str: The compressed binary string of length k.\n",
    "\n",
    "    Raises:\n",
    "        AssertionError: If the length of the binary string is not a multiple of 8.\n",
    "    \"\"\"\n",
    "    assert len(binary_string) % 8 == 0, \"Binary string length must be a multiple of 8\"\n",
    "    byte_length = len(binary_string) // 8\n",
    "    byte_data = int(binary_string, 2).to_bytes(byte_length, byteorder='big')\n",
    "    hash_object = hashlib.sha256(byte_data)\n",
    "    hash_digest = hash_object.digest()\n",
    "    hash_binary_string = ''.join(format(byte, '08b') for byte in hash_digest)\n",
    "    compressed_binary_string = hash_binary_string[:k]\n",
    "    return compressed_binary_string\n",
    "\n",
    "\n",
    "def retrieve_original_from_compressed(compressed_string, lookup_table):\n",
    "    \"\"\"\n",
    "    Retrieve the original binary string from the compressed string using a lookup table.\n",
    "\n",
    "    Args:\n",
    "        compressed_string (str): The compressed binary string.\n",
    "\n",
    "    Returns:\n",
    "        str: The original binary string, or None if not found.\n",
    "    \"\"\"\n",
    "    return lookup_table.get(compressed_string, None)\n",
    "\n",
    "\n",
    "def find_keys_by_value(d, target_value):\n",
    "    \"\"\"\n",
    "    Find all keys in a dictionary that have a specific target value.\n",
    "\n",
    "    Args:\n",
    "        d (Dict): The dictionary to search.\n",
    "        target_value: The value to search for.\n",
    "\n",
    "    Returns:\n",
    "        List: A list of keys that have the target value.\n",
    "    \"\"\"\n",
    "    keys = [key for key, value in d.items() if value == target_value]\n",
    "    return keys\n",
    "\n",
    "def encode_bitstring(bitstring: str, qr: QuantumRegister,\n",
    "                     cr: ClassicalRegister, inverse=False) -> QuantumCircuit:\n",
    "    \"\"\"\n",
    "    Create a quantum circuit for constructing the quantum superposition of the bitstring.\n",
    "\n",
    "    Args:\n",
    "        bitstring (str): Binary string to encode in the quantum circuit.\n",
    "        qr (QuantumRegister): Quantum register to use for the circuit.\n",
    "        cr (ClassicalRegister): Classical register to use for the circuit.\n",
    "        inverse (bool): If True, creates the inverse of the encoding circuit.\n",
    "\n",
    "    Returns:\n",
    "        QuantumCircuit: Quantum circuit with the encoded bitstring.\n",
    "\n",
    "    Raises:\n",
    "        AssertionError: If the length of the bitstring is less than 2.\n",
    "    \"\"\"\n",
    "    n = math.ceil(math.log2(len(bitstring))) + 1\n",
    "    assert n > 2, \"the length of bitstring must be at least 2\"\n",
    "    qc = QuantumCircuit(qr, cr)\n",
    "    desired_vector = np.array([ 0.0 for i in range(2**n) ])\n",
    "    amplitude = np.sqrt(1.0/2**(n-1))\n",
    "    for i, b in enumerate(bitstring):\n",
    "        pos = i * 2\n",
    "        if b == \"1\":\n",
    "            pos += 1\n",
    "        desired_vector[pos] = amplitude\n",
    "    desired_vector = desired_vector / np.linalg.norm(desired_vector)\n",
    "    if not inverse:\n",
    "        qc.initialize(desired_vector, qr)\n",
    "        qc.barrier(qr)\n",
    "    else:\n",
    "        desired_vector_real = np.real(desired_vector)\n",
    "        qc.initialize(desired_vector_real,qr)\n",
    "        for i in range(n):\n",
    "            qc.measure(qr[i], cr[i])\n",
    "    return qc"
   ]
  },
  {
   "cell_type": "markdown",
   "metadata": {
    "id": "G6aJAJ_kzXEW"
   },
   "source": [
    "## QuAM-based architecture"
   ]
  },
  {
   "cell_type": "code",
   "execution_count": 6,
   "metadata": {
    "id": "0LldLsF11Uid"
   },
   "outputs": [],
   "source": [
    "YEAST_bin = list(YEAST)\n",
    "PROTOZOAN_bin = list(PROTOZOAN)\n",
    "BACTERIAL_bin = list(BACTERIAL)\n",
    "for i in range(len(YEAST_bin)):\n",
    "    if YEAST_bin[i] == \"-\":\n",
    "        YEAST_bin[i] = 0\n",
    "    if YEAST_bin[i] == \"M\":\n",
    "        YEAST_bin[i] = 1\n",
    "for i in range(len(PROTOZOAN_bin)):\n",
    "    if PROTOZOAN_bin[i] == \"-\":\n",
    "        PROTOZOAN_bin[i] = 0\n",
    "    if PROTOZOAN_bin[i] == \"M\":\n",
    "        PROTOZOAN_bin[i] = 1\n",
    "for i in range(len(BACTERIAL_bin)):\n",
    "    if BACTERIAL_bin[i] == \"-\":\n",
    "        BACTERIAL_bin[i] = 0\n",
    "    if BACTERIAL_bin[i] == \"M\":\n",
    "        BACTERIAL_bin[i] = 1"
   ]
  },
  {
   "cell_type": "code",
   "execution_count": 7,
   "metadata": {
    "colab": {
     "base_uri": "https://localhost:8080/",
     "height": 36
    },
    "id": "7HBvE0601r98",
    "outputId": "bb7d0524-a43b-46a3-c992-e2146fff2b98"
   },
   "outputs": [
    {
     "data": {
      "application/vnd.google.colaboratory.intrinsic+json": {
       "type": "string"
      },
      "text/plain": [
       "'0011000000000000000100000000000011110000000000000001000000000000'"
      ]
     },
     "execution_count": 7,
     "metadata": {},
     "output_type": "execute_result"
    }
   ],
   "source": [
    "patterns = [''.join(str(bit) for bit in YEAST_bin), ''.join(str(bit) for bit in BACTERIAL_bin)]\n",
    "search = [''.join(str(bit) for bit in PROTOZOAN_bin)]\n",
    "search = search[0]\n",
    "search"
   ]
  },
  {
   "cell_type": "markdown",
   "metadata": {
    "id": "F0_GK4m71w2C"
   },
   "source": [
    "**Remark .** If you try the following\n",
    "\n",
    "```\n",
    "result = grover_search(qc=None, x=None, c=None, output=None, xc=None, cc=None, R=None, s=search, patterns=patterns, problem=\"similarity\")\n",
    "max(result.circuit_results[0], key=result.circuit_results[0].get)\n",
    "```\n",
    "you will get an error:\n",
    "\n",
    "```\n",
    "---------------------------------------------------------------------------\n",
    "ValueError                                Traceback (most recent call last)\n",
    "<ipython-input-182-82261044df0e> in <cell line: 1>()\n",
    "----> 1 result = grover_search(qc=None, x=None, c=None, output=None, xc=None, cc=None, R=None, s=search, patterns=patterns, problem=\"similarity\")\n",
    "      2 max(result.circuit_results[0], key=result.circuit_results[0].get)\n",
    "\n",
    "1 frames\n",
    "/usr/local/lib/python3.10/dist-packages/qiskit/quantum_info/states/statevector.py in from_label(cls, label)\n",
    "    698         # Initialize Z eigenstate vector\n",
    "    699         num_qubits = len(label)\n",
    "--> 700         data = np.zeros(1 << num_qubits, dtype=complex)\n",
    "    701         pos = int(z_label, 2)\n",
    "    702         data[pos] = 1\n",
    "\n",
    "ValueError: Maximum allowed dimension exceeded\n",
    "```\n",
    "hashing is needed..."
   ]
  },
  {
   "cell_type": "code",
   "execution_count": 8,
   "metadata": {
    "colab": {
     "base_uri": "https://localhost:8080/"
    },
    "id": "O9kpD8_91wk3",
    "outputId": "dab7026a-2cde-4e48-8f22-06a0f1f96b37"
   },
   "outputs": [
    {
     "name": "stdout",
     "output_type": "stream",
     "text": [
      "['10011000', '01001110'] 10110001\n"
     ]
    },
    {
     "data": {
      "text/plain": [
       "{'10011000': '0000000000000000000000000000000000110000000000000000000000000000',\n",
       " '01001110': '0001000000000000000100000000000011110000000000000001000000000000'}"
      ]
     },
     "execution_count": 8,
     "metadata": {},
     "output_type": "execute_result"
    }
   ],
   "source": [
    "k = 8\n",
    "patterns_comp = []\n",
    "for pattern in patterns:\n",
    "    pattern = compress(pattern,k)\n",
    "    patterns_comp.append(pattern)\n",
    "search_comp = compress(search,k)\n",
    "print(patterns_comp, search_comp)\n",
    "\n",
    "lookup_table = {}\n",
    "for original_string in patterns:\n",
    "    compressed_string = compress(original_string,k)\n",
    "    lookup_table[compressed_string] = original_string\n",
    "lookup_table"
   ]
  },
  {
   "cell_type": "markdown",
   "metadata": {
    "id": "dijcsmF913Sp"
   },
   "source": [
    "Now we can apply Grover..."
   ]
  },
  {
   "cell_type": "code",
   "execution_count": 10,
   "metadata": {
    "id": "TsqeemjG15W2"
   },
   "outputs": [],
   "source": [
    "from functions.QUAM import *\n",
    "\n",
    "result = grover_search(qc=None, x=None, c=None, output=None, xc=None, cc=None, R=None, s=search_comp, patterns=patterns_comp, problem=\"similarity\")\n",
    "sorted_results = dict(sorted(result.circuit_results[0].items(), key=operator.itemgetter(1), reverse=True))\n"
   ]
  },
  {
   "cell_type": "code",
   "execution_count": 11,
   "metadata": {
    "id": "MWMYXkA21-LX"
   },
   "outputs": [],
   "source": [
    "recovered_answers = []\n",
    "for i in range(len(list(sorted_results.keys()))):\n",
    "  if retrieve_original_from_compressed(list(sorted_results.keys())[i],lookup_table) is not None:\n",
    "    recovered_answers.append(retrieve_original_from_compressed(list(sorted_results.keys())[i],lookup_table))"
   ]
  },
  {
   "cell_type": "code",
   "execution_count": 12,
   "metadata": {
    "colab": {
     "base_uri": "https://localhost:8080/"
    },
    "id": "8dY7Fwa72ENu",
    "outputId": "8651e6d2-41e8-4eec-bb67-5ab1beda053b"
   },
   "outputs": [
    {
     "name": "stdout",
     "output_type": "stream",
     "text": [
      "YEAST is most similar to YEAST with similarity 0.0347909927368156\n"
     ]
    }
   ],
   "source": [
    "original_string = retrieve_original_from_compressed(max(result.circuit_results[0], key=result.circuit_results[0].get),lookup_table)\n",
    "answer = [0]*len(original_string)\n",
    "for i in range(len(original_string)):\n",
    "    if original_string[i] == \"0\":\n",
    "        answer[i] = \"-\"\n",
    "    if original_string[i] == \"1\":\n",
    "        answer[i] = \"M\"\n",
    "answer = ''.join(answer)\n",
    "key = find_keys_by_value(codes, answer)\n",
    "item = max(result.circuit_results[0], key=result.circuit_results[0].get)\n",
    "print(f'YEAST is most similar to {key[0]} with similarity {sorted_results[item]}')"
   ]
  },
  {
   "cell_type": "code",
   "execution_count": 13,
   "metadata": {
    "colab": {
     "base_uri": "https://localhost:8080/"
    },
    "id": "w3gRJJSr2FOa",
    "outputId": "6a59901b-9bac-4f6d-f893-e79147f01ca5"
   },
   "outputs": [
    {
     "name": "stdout",
     "output_type": "stream",
     "text": [
      "YEAST is also similar to BACTERIAL with similarity 0.0037851333618163\n"
     ]
    }
   ],
   "source": [
    "other_string = recovered_answers[1]\n",
    "other_answer = [0]*len(other_string)\n",
    "for i in range(len(other_string)):\n",
    "    if other_string[i] == \"0\":\n",
    "        other_answer[i] = \"-\"\n",
    "    if other_string[i] == \"1\":\n",
    "        other_answer[i] = \"M\"\n",
    "other_answer = ''.join(other_answer)\n",
    "key = find_keys_by_value(codes, other_answer)\n",
    "item = find_keys_by_value(lookup_table, other_string)[0]\n",
    "print(f'YEAST is also similar to {key[0]} with similarity {sorted_results[item]}')"
   ]
  },
  {
   "cell_type": "markdown",
   "metadata": {
    "id": "7SjhRlrpzi28"
   },
   "source": [
    "## Circuit-based architecture"
   ]
  },
  {
   "cell_type": "code",
   "execution_count": 16,
   "metadata": {
    "id": "MxrED8_Z2HKy"
   },
   "outputs": [],
   "source": [
    "n = math.ceil(math.log2(len(YEAST))) + 1\n",
    "qr = QuantumRegister(n)\n",
    "cr = ClassicalRegister(n)\n",
    "qc_yeast = encode_bitstring(YEAST, qr, cr)\n",
    "qc_protozoan = encode_bitstring(PROTOZOAN, qr, cr)\n",
    "qc_bacterial = encode_bitstring(BACTERIAL, qr, cr)\n",
    "circs = {\"YEAST\": qc_yeast, \"PROTOZOAN\": qc_protozoan, \"BACTERIAL\": qc_bacterial}"
   ]
  },
  {
   "cell_type": "code",
   "execution_count": 17,
   "metadata": {
    "id": "I9yqTLJP2Kt0"
   },
   "outputs": [],
   "source": [
    "inverse_qc_yeast = encode_bitstring(YEAST,qr,cr, inverse=True)\n",
    "inverse_qc_protozoan = encode_bitstring(PROTOZOAN, qr, cr, inverse=True)\n",
    "inverse_qc_bacterial = encode_bitstring(BACTERIAL, qr, cr, inverse=True)\n",
    "inverse_circs = {\"YEAST\": inverse_qc_yeast, \"PROTOZOAN\": inverse_qc_protozoan, \"BACTERIAL\": inverse_qc_bacterial}"
   ]
  },
  {
   "cell_type": "code",
   "execution_count": 18,
   "metadata": {
    "colab": {
     "base_uri": "https://localhost:8080/"
    },
    "id": "_ya8LvrM2Mh_",
    "outputId": "0afb7c0c-b0da-42fe-a2db-3684d1ee58dd"
   },
   "outputs": [
    {
     "name": "stdout",
     "output_type": "stream",
     "text": [
      "Similarity score of PROTOZOAN and YEAST is 0.024\n",
      "Similarity score of PROTOZOAN and BACTERIAL is 0.018\n",
      "PROTOZOAN is most similar to YEAST\n"
     ]
    }
   ],
   "source": [
    "key = \"PROTOZOAN\"\n",
    "shots = 1000\n",
    "\n",
    "combined_circs = {}\n",
    "count = {}\n",
    "\n",
    "most_similar, most_similar_score = \"\", -1.0\n",
    "\n",
    "for other_key in inverse_circs:\n",
    "    if other_key == key:\n",
    "        continue\n",
    "    combined_circs[other_key] = circs[key].compose(inverse_circs[other_key])\n",
    "    backend = Aer.get_backend(\"qasm_simulator\")\n",
    "    t_qc = transpile(combined_circs[other_key], backend=backend)\n",
    "    job = backend.run(t_qc)\n",
    "    st = job.result().get_counts(combined_circs[other_key])\n",
    "    if \"0\"*n in st:\n",
    "        sim_score = st[\"0\"*n]/shots\n",
    "    else:\n",
    "        sim_score = 0.0\n",
    "\n",
    "    print(\"Similarity score of\",key,\"and\",other_key,\"is\",sim_score)\n",
    "    if most_similar_score < sim_score:\n",
    "        most_similar, most_similar_score = other_key, sim_score\n",
    "\n",
    "print(key,\"is most similar to\", most_similar)"
   ]
  }
 ],
 "metadata": {
  "colab": {
   "provenance": []
  },
  "kernelspec": {
   "display_name": "Python 3 (ipykernel)",
   "language": "python",
   "name": "python3"
  },
  "language_info": {
   "codemirror_mode": {
    "name": "ipython",
    "version": 3
   },
   "file_extension": ".py",
   "mimetype": "text/x-python",
   "name": "python",
   "nbconvert_exporter": "python",
   "pygments_lexer": "ipython3",
   "version": "3.11.0"
  }
 },
 "nbformat": 4,
 "nbformat_minor": 4
}
