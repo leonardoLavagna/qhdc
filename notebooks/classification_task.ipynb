{
  "nbformat": 4,
  "nbformat_minor": 0,
  "metadata": {
    "colab": {
      "provenance": []
    },
    "kernelspec": {
      "name": "python3",
      "display_name": "Python 3"
    },
    "language_info": {
      "name": "python"
    }
  },
  "cells": [
    {
      "cell_type": "markdown",
      "source": [
        "# notebooks.classification_task"
      ],
      "metadata": {
        "id": "ktvqF_-gybHl"
      }
    },
    {
      "cell_type": "markdown",
      "source": [
        "We start with a bit-string similarity problem related to protozoan mithocondrial genetic codes extracted from https://www.bioinformatics.org/sms2/genetic_code.html."
      ],
      "metadata": {
        "id": "SGXIjYgxyj0k"
      }
    },
    {
      "cell_type": "code",
      "execution_count": 1,
      "metadata": {
        "colab": {
          "base_uri": "https://localhost:8080/"
        },
        "id": "Lpltzp1DyVxt",
        "outputId": "02114172-3a6c-4bbf-b4b3-ae381dc88e6f"
      },
      "outputs": [
        {
          "output_type": "stream",
          "name": "stdout",
          "text": [
            "Cloning into 'qhdc'...\n",
            "remote: Enumerating objects: 57, done.\u001b[K\n",
            "remote: Counting objects: 100% (57/57), done.\u001b[K\n",
            "remote: Compressing objects: 100% (53/53), done.\u001b[K\n",
            "remote: Total 57 (delta 13), reused 0 (delta 0), pack-reused 0 (from 0)\u001b[K\n",
            "Receiving objects: 100% (57/57), 218.51 KiB | 7.05 MiB/s, done.\n",
            "Resolving deltas: 100% (13/13), done.\n"
          ]
        }
      ],
      "source": [
        "!git clone https://github.com/leonardoLavagna/qhdc"
      ]
    },
    {
      "cell_type": "code",
      "source": [
        "import math\n",
        "import hashlib\n",
        "import operator\n",
        "import os\n",
        "os.chdir('qhdc')"
      ],
      "metadata": {
        "id": "8czdyCNXyfhE"
      },
      "execution_count": 2,
      "outputs": []
    },
    {
      "cell_type": "code",
      "source": [
        "!pip install -r requirements.txt"
      ],
      "metadata": {
        "colab": {
          "base_uri": "https://localhost:8080/"
        },
        "id": "MMmKvHpayg4u",
        "outputId": "e8b65915-8bdf-4408-e12c-9a1df9b7e5c9"
      },
      "execution_count": 3,
      "outputs": [
        {
          "output_type": "stream",
          "name": "stdout",
          "text": [
            "Collecting scipy==1.11.4 (from -r requirements.txt (line 1))\n",
            "  Downloading scipy-1.11.4-cp310-cp310-manylinux_2_17_x86_64.manylinux2014_x86_64.whl.metadata (60 kB)\n",
            "\u001b[?25l     \u001b[90m━━━━━━━━━━━━━━━━━━━━━━━━━━━━━━━━━━━━━━━━\u001b[0m \u001b[32m0.0/60.4 kB\u001b[0m \u001b[31m?\u001b[0m eta \u001b[36m-:--:--\u001b[0m\r\u001b[2K     \u001b[90m━━━━━━━━━━━━━━━━━━━━━━━━━━━━━━━━━━━━━━━━\u001b[0m \u001b[32m60.4/60.4 kB\u001b[0m \u001b[31m4.1 MB/s\u001b[0m eta \u001b[36m0:00:00\u001b[0m\n",
            "\u001b[?25hCollecting qiskit==1.1.1 (from -r requirements.txt (line 2))\n",
            "  Downloading qiskit-1.1.1-cp38-abi3-manylinux_2_17_x86_64.manylinux2014_x86_64.whl.metadata (12 kB)\n",
            "Collecting qiskit-algorithms==0.3.0 (from -r requirements.txt (line 3))\n",
            "  Downloading qiskit_algorithms-0.3.0-py3-none-any.whl.metadata (4.2 kB)\n",
            "Collecting qiskit_aer==0.14.2 (from -r requirements.txt (line 4))\n",
            "  Downloading qiskit_aer-0.14.2-cp310-cp310-manylinux_2_17_x86_64.manylinux2014_x86_64.whl.metadata (8.1 kB)\n",
            "Requirement already satisfied: numpy<1.28.0,>=1.21.6 in /usr/local/lib/python3.10/dist-packages (from scipy==1.11.4->-r requirements.txt (line 1)) (1.26.4)\n",
            "Collecting rustworkx>=0.14.0 (from qiskit==1.1.1->-r requirements.txt (line 2))\n",
            "  Downloading rustworkx-0.15.1-cp38-abi3-manylinux_2_17_x86_64.manylinux2014_x86_64.whl.metadata (9.9 kB)\n",
            "Requirement already satisfied: sympy>=1.3 in /usr/local/lib/python3.10/dist-packages (from qiskit==1.1.1->-r requirements.txt (line 2)) (1.13.1)\n",
            "Collecting dill>=0.3 (from qiskit==1.1.1->-r requirements.txt (line 2))\n",
            "  Downloading dill-0.3.9-py3-none-any.whl.metadata (10 kB)\n",
            "Requirement already satisfied: python-dateutil>=2.8.0 in /usr/local/lib/python3.10/dist-packages (from qiskit==1.1.1->-r requirements.txt (line 2)) (2.8.2)\n",
            "Collecting stevedore>=3.0.0 (from qiskit==1.1.1->-r requirements.txt (line 2))\n",
            "  Downloading stevedore-5.4.0-py3-none-any.whl.metadata (2.3 kB)\n",
            "Requirement already satisfied: typing-extensions in /usr/local/lib/python3.10/dist-packages (from qiskit==1.1.1->-r requirements.txt (line 2)) (4.12.2)\n",
            "Collecting symengine>=0.11 (from qiskit==1.1.1->-r requirements.txt (line 2))\n",
            "  Downloading symengine-0.13.0-cp310-cp310-manylinux_2_17_x86_64.manylinux2014_x86_64.whl.metadata (1.2 kB)\n",
            "Requirement already satisfied: psutil>=5 in /usr/local/lib/python3.10/dist-packages (from qiskit_aer==0.14.2->-r requirements.txt (line 4)) (5.9.5)\n",
            "Requirement already satisfied: six>=1.5 in /usr/local/lib/python3.10/dist-packages (from python-dateutil>=2.8.0->qiskit==1.1.1->-r requirements.txt (line 2)) (1.17.0)\n",
            "Collecting pbr>=2.0.0 (from stevedore>=3.0.0->qiskit==1.1.1->-r requirements.txt (line 2))\n",
            "  Downloading pbr-6.1.0-py2.py3-none-any.whl.metadata (3.4 kB)\n",
            "Requirement already satisfied: mpmath<1.4,>=1.1.0 in /usr/local/lib/python3.10/dist-packages (from sympy>=1.3->qiskit==1.1.1->-r requirements.txt (line 2)) (1.3.0)\n",
            "Downloading scipy-1.11.4-cp310-cp310-manylinux_2_17_x86_64.manylinux2014_x86_64.whl (36.4 MB)\n",
            "\u001b[2K   \u001b[90m━━━━━━━━━━━━━━━━━━━━━━━━━━━━━━━━━━━━━━━━\u001b[0m \u001b[32m36.4/36.4 MB\u001b[0m \u001b[31m48.6 MB/s\u001b[0m eta \u001b[36m0:00:00\u001b[0m\n",
            "\u001b[?25hDownloading qiskit-1.1.1-cp38-abi3-manylinux_2_17_x86_64.manylinux2014_x86_64.whl (4.3 MB)\n",
            "\u001b[2K   \u001b[90m━━━━━━━━━━━━━━━━━━━━━━━━━━━━━━━━━━━━━━━━\u001b[0m \u001b[32m4.3/4.3 MB\u001b[0m \u001b[31m81.5 MB/s\u001b[0m eta \u001b[36m0:00:00\u001b[0m\n",
            "\u001b[?25hDownloading qiskit_algorithms-0.3.0-py3-none-any.whl (308 kB)\n",
            "\u001b[2K   \u001b[90m━━━━━━━━━━━━━━━━━━━━━━━━━━━━━━━━━━━━━━━━\u001b[0m \u001b[32m308.6/308.6 kB\u001b[0m \u001b[31m20.7 MB/s\u001b[0m eta \u001b[36m0:00:00\u001b[0m\n",
            "\u001b[?25hDownloading qiskit_aer-0.14.2-cp310-cp310-manylinux_2_17_x86_64.manylinux2014_x86_64.whl (12.4 MB)\n",
            "\u001b[2K   \u001b[90m━━━━━━━━━━━━━━━━━━━━━━━━━━━━━━━━━━━━━━━━\u001b[0m \u001b[32m12.4/12.4 MB\u001b[0m \u001b[31m84.9 MB/s\u001b[0m eta \u001b[36m0:00:00\u001b[0m\n",
            "\u001b[?25hDownloading dill-0.3.9-py3-none-any.whl (119 kB)\n",
            "\u001b[2K   \u001b[90m━━━━━━━━━━━━━━━━━━━━━━━━━━━━━━━━━━━━━━━━\u001b[0m \u001b[32m119.4/119.4 kB\u001b[0m \u001b[31m8.7 MB/s\u001b[0m eta \u001b[36m0:00:00\u001b[0m\n",
            "\u001b[?25hDownloading rustworkx-0.15.1-cp38-abi3-manylinux_2_17_x86_64.manylinux2014_x86_64.whl (2.0 MB)\n",
            "\u001b[2K   \u001b[90m━━━━━━━━━━━━━━━━━━━━━━━━━━━━━━━━━━━━━━━━\u001b[0m \u001b[32m2.0/2.0 MB\u001b[0m \u001b[31m70.2 MB/s\u001b[0m eta \u001b[36m0:00:00\u001b[0m\n",
            "\u001b[?25hDownloading stevedore-5.4.0-py3-none-any.whl (49 kB)\n",
            "\u001b[2K   \u001b[90m━━━━━━━━━━━━━━━━━━━━━━━━━━━━━━━━━━━━━━━━\u001b[0m \u001b[32m49.5/49.5 kB\u001b[0m \u001b[31m3.5 MB/s\u001b[0m eta \u001b[36m0:00:00\u001b[0m\n",
            "\u001b[?25hDownloading symengine-0.13.0-cp310-cp310-manylinux_2_17_x86_64.manylinux2014_x86_64.whl (49.7 MB)\n",
            "\u001b[2K   \u001b[90m━━━━━━━━━━━━━━━━━━━━━━━━━━━━━━━━━━━━━━━━\u001b[0m \u001b[32m49.7/49.7 MB\u001b[0m \u001b[31m10.3 MB/s\u001b[0m eta \u001b[36m0:00:00\u001b[0m\n",
            "\u001b[?25hDownloading pbr-6.1.0-py2.py3-none-any.whl (108 kB)\n",
            "\u001b[2K   \u001b[90m━━━━━━━━━━━━━━━━━━━━━━━━━━━━━━━━━━━━━━━━\u001b[0m \u001b[32m108.5/108.5 kB\u001b[0m \u001b[31m7.4 MB/s\u001b[0m eta \u001b[36m0:00:00\u001b[0m\n",
            "\u001b[?25hInstalling collected packages: symengine, scipy, rustworkx, pbr, dill, stevedore, qiskit, qiskit-algorithms, qiskit_aer\n",
            "  Attempting uninstall: scipy\n",
            "    Found existing installation: scipy 1.13.1\n",
            "    Uninstalling scipy-1.13.1:\n",
            "      Successfully uninstalled scipy-1.13.1\n",
            "Successfully installed dill-0.3.9 pbr-6.1.0 qiskit-1.1.1 qiskit-algorithms-0.3.0 qiskit_aer-0.14.2 rustworkx-0.15.1 scipy-1.11.4 stevedore-5.4.0 symengine-0.13.0\n"
          ]
        }
      ]
    },
    {
      "cell_type": "code",
      "source": [
        "YEAST     = \"----------------------------------MM----------------------------\"\n",
        "PROTOZOAN = \"--MM---------------M------------MMMM---------------M------------\"\n",
        "BACTERIAL = \"---M---------------M------------MMMM---------------M------------\"\n",
        "codes = {\"YEAST\": YEAST,\"PROTOZOAN\": PROTOZOAN,\"BACTERIAL\":BACTERIAL}"
      ],
      "metadata": {
        "id": "33Afk6cD1kn-"
      },
      "execution_count": 4,
      "outputs": []
    },
    {
      "cell_type": "code",
      "source": [
        "def compress(binary_string, k):\n",
        "    \"\"\"\n",
        "    Compress a binary string to a fixed length k using SHA-256 hashing.\n",
        "\n",
        "    Args:\n",
        "        binary_string (str): The binary string to be compressed.\n",
        "        k (int): The length of the compressed binary string.\n",
        "\n",
        "    Returns:\n",
        "        str: The compressed binary string of length k.\n",
        "\n",
        "    Raises:\n",
        "        AssertionError: If the length of the binary string is not a multiple of 8.\n",
        "    \"\"\"\n",
        "    assert len(binary_string) % 8 == 0, \"Binary string length must be a multiple of 8\"\n",
        "    # Convert binary string to bytes\n",
        "    byte_length = len(binary_string) // 8\n",
        "    byte_data = int(binary_string, 2).to_bytes(byte_length, byteorder='big')\n",
        "    # Compute the SHA-256 hash of the byte data\n",
        "    hash_object = hashlib.sha256(byte_data)\n",
        "    hash_digest = hash_object.digest()\n",
        "    # Convert hash digest to a binary string\n",
        "    hash_binary_string = ''.join(format(byte, '08b') for byte in hash_digest)\n",
        "    # Take the first k bits of the binary hash string\n",
        "    compressed_binary_string = hash_binary_string[:k]\n",
        "    return compressed_binary_string\n",
        "\n",
        "\n",
        "def retrieve_original_from_compressed(compressed_string, lookup_table):\n",
        "    \"\"\"\n",
        "    Retrieve the original binary string from the compressed string using a lookup table.\n",
        "\n",
        "    Args:\n",
        "        compressed_string (str): The compressed binary string.\n",
        "\n",
        "    Returns:\n",
        "        str: The original binary string, or None if not found.\n",
        "    \"\"\"\n",
        "    return lookup_table.get(compressed_string, None)\n",
        "\n",
        "\n",
        "def find_keys_by_value(d, target_value):\n",
        "    \"\"\"\n",
        "    Find all keys in a dictionary that have a specific target value.\n",
        "\n",
        "    Args:\n",
        "        d (Dict): The dictionary to search.\n",
        "        target_value: The value to search for.\n",
        "\n",
        "    Returns:\n",
        "        List: A list of keys that have the target value.\n",
        "    \"\"\"\n",
        "    keys = [key for key, value in d.items() if value == target_value]\n",
        "    return keys\n",
        "\n",
        "def encode_bitstring(bitstring: str, qr: QuantumRegister,\n",
        "                     cr: ClassicalRegister, inverse=False) -> QuantumCircuit:\n",
        "    \"\"\"\n",
        "    Create a quantum circuit for constructing the quantum superposition of the bitstring.\n",
        "\n",
        "    Args:\n",
        "        bitstring (str): Binary string to encode in the quantum circuit.\n",
        "        qr (QuantumRegister): Quantum register to use for the circuit.\n",
        "        cr (ClassicalRegister): Classical register to use for the circuit.\n",
        "        inverse (bool): If True, creates the inverse of the encoding circuit.\n",
        "\n",
        "    Returns:\n",
        "        QuantumCircuit: Quantum circuit with the encoded bitstring.\n",
        "\n",
        "    Raises:\n",
        "        AssertionError: If the length of the bitstring is less than 2.\n",
        "    \"\"\"\n",
        "    n = math.ceil(math.log2(len(bitstring))) + 1\n",
        "    assert n > 2, \"the length of bitstring must be at least 2\"\n",
        "    qc = QuantumCircuit(qr, cr)\n",
        "    #the probability amplitude of the desired state\n",
        "    #initialized to zero\n",
        "    desired_vector = np.array([ 0.0 for i in range(2**n) ])\n",
        "    amplitude = np.sqrt(1.0/2**(n-1))\n",
        "    for i, b in enumerate(bitstring):\n",
        "        pos = i * 2\n",
        "        if b == \"1\":\n",
        "            pos += 1\n",
        "        desired_vector[pos] = amplitude\n",
        "    # Normalize the desired vector to ensure it has a norm of 1\n",
        "    desired_vector = desired_vector / np.linalg.norm(desired_vector)\n",
        "    if not inverse:\n",
        "        qc.initialize(desired_vector, qr)\n",
        "        qc.barrier(qr)\n",
        "    else:\n",
        "        # Create a copy of the initialization vector and cast it to real numbers\n",
        "        desired_vector_real = np.real(desired_vector)\n",
        "        qc.initialize(desired_vector_real,qr)\n",
        "        for i in range(n):\n",
        "            qc.measure(qr[i], cr[i])\n",
        "    return qc"
      ],
      "metadata": {
        "id": "QUjvVofB1XOr"
      },
      "execution_count": 15,
      "outputs": []
    },
    {
      "cell_type": "markdown",
      "source": [
        "## QuAM-based architecture"
      ],
      "metadata": {
        "id": "G6aJAJ_kzXEW"
      }
    },
    {
      "cell_type": "code",
      "source": [
        "YEAST_bin = list(YEAST)\n",
        "PROTOZOAN_bin = list(PROTOZOAN)\n",
        "BACTERIAL_bin = list(BACTERIAL)\n",
        "for i in range(len(YEAST_bin)):\n",
        "    if YEAST_bin[i] == \"-\":\n",
        "        YEAST_bin[i] = 0\n",
        "    if YEAST_bin[i] == \"M\":\n",
        "        YEAST_bin[i] = 1\n",
        "for i in range(len(PROTOZOAN_bin)):\n",
        "    if PROTOZOAN_bin[i] == \"-\":\n",
        "        PROTOZOAN_bin[i] = 0\n",
        "    if PROTOZOAN_bin[i] == \"M\":\n",
        "        PROTOZOAN_bin[i] = 1\n",
        "for i in range(len(BACTERIAL_bin)):\n",
        "    if BACTERIAL_bin[i] == \"-\":\n",
        "        BACTERIAL_bin[i] = 0\n",
        "    if BACTERIAL_bin[i] == \"M\":\n",
        "        BACTERIAL_bin[i] = 1"
      ],
      "metadata": {
        "id": "0LldLsF11Uid"
      },
      "execution_count": 6,
      "outputs": []
    },
    {
      "cell_type": "code",
      "source": [
        "patterns = [''.join(str(bit) for bit in YEAST_bin), ''.join(str(bit) for bit in BACTERIAL_bin)]\n",
        "search = [''.join(str(bit) for bit in PROTOZOAN_bin)]\n",
        "search = search[0]\n",
        "search"
      ],
      "metadata": {
        "colab": {
          "base_uri": "https://localhost:8080/",
          "height": 36
        },
        "id": "7HBvE0601r98",
        "outputId": "bb7d0524-a43b-46a3-c992-e2146fff2b98"
      },
      "execution_count": 7,
      "outputs": [
        {
          "output_type": "execute_result",
          "data": {
            "text/plain": [
              "'0011000000000000000100000000000011110000000000000001000000000000'"
            ],
            "application/vnd.google.colaboratory.intrinsic+json": {
              "type": "string"
            }
          },
          "metadata": {},
          "execution_count": 7
        }
      ]
    },
    {
      "cell_type": "markdown",
      "source": [
        "**Remark .** If you try the following\n",
        "```\n",
        "result = grover_search(qc=None, x=None, c=None, output=None, xc=None, cc=None, R=None, s=search, patterns=patterns, problem=\"similarity\")\n",
        "max(result.circuit_results[0], key=result.circuit_results[0].get)\n",
        "```\n",
        "you will get an error:\n",
        "```\n",
        "---------------------------------------------------------------------------\n",
        "ValueError                                Traceback (most recent call last)\n",
        "<ipython-input-182-82261044df0e> in <cell line: 1>()\n",
        "----> 1 result = grover_search(qc=None, x=None, c=None, output=None, xc=None, cc=None, R=None, s=search, patterns=patterns, problem=\"similarity\")\n",
        "      2 max(result.circuit_results[0], key=result.circuit_results[0].get)\n",
        "\n",
        "1 frames\n",
        "/usr/local/lib/python3.10/dist-packages/qiskit/quantum_info/states/statevector.py in from_label(cls, label)\n",
        "    698         # Initialize Z eigenstate vector\n",
        "    699         num_qubits = len(label)\n",
        "--> 700         data = np.zeros(1 << num_qubits, dtype=complex)\n",
        "    701         pos = int(z_label, 2)\n",
        "    702         data[pos] = 1\n",
        "\n",
        "ValueError: Maximum allowed dimension exceeded\n",
        "```\n",
        "hashing is needed..."
      ],
      "metadata": {
        "id": "F0_GK4m71w2C"
      }
    },
    {
      "cell_type": "code",
      "source": [
        "k = 8\n",
        "patterns_comp = []\n",
        "for pattern in patterns:\n",
        "    pattern = compress(pattern,k)\n",
        "    patterns_comp.append(pattern)\n",
        "search_comp = compress(search,k)\n",
        "print(patterns_comp, search_comp)\n",
        "\n",
        "lookup_table = {}\n",
        "for original_string in patterns:\n",
        "    compressed_string = compress(original_string,k)\n",
        "    lookup_table[compressed_string] = original_string\n",
        "lookup_table"
      ],
      "metadata": {
        "colab": {
          "base_uri": "https://localhost:8080/"
        },
        "id": "O9kpD8_91wk3",
        "outputId": "dab7026a-2cde-4e48-8f22-06a0f1f96b37"
      },
      "execution_count": 8,
      "outputs": [
        {
          "output_type": "stream",
          "name": "stdout",
          "text": [
            "['10011000', '01001110'] 10110001\n"
          ]
        },
        {
          "output_type": "execute_result",
          "data": {
            "text/plain": [
              "{'10011000': '0000000000000000000000000000000000110000000000000000000000000000',\n",
              " '01001110': '0001000000000000000100000000000011110000000000000001000000000000'}"
            ]
          },
          "metadata": {},
          "execution_count": 8
        }
      ]
    },
    {
      "cell_type": "markdown",
      "source": [
        "Now we can apply Grover..."
      ],
      "metadata": {
        "id": "dijcsmF913Sp"
      }
    },
    {
      "cell_type": "code",
      "source": [
        "from functions.QUAM import *\n",
        "\n",
        "result = grover_search(qc=None, x=None, c=None, output=None, xc=None, cc=None, R=None, s=search_comp, patterns=patterns_comp, problem=\"similarity\")\n",
        "sorted_results = dict(sorted(result.circuit_results[0].items(), key=operator.itemgetter(1), reverse=True))\n"
      ],
      "metadata": {
        "id": "TsqeemjG15W2"
      },
      "execution_count": 10,
      "outputs": []
    },
    {
      "cell_type": "code",
      "source": [
        "recovered_answers = []\n",
        "for i in range(len(list(sorted_results.keys()))):\n",
        "  if retrieve_original_from_compressed(list(sorted_results.keys())[i],lookup_table) is not None:\n",
        "    recovered_answers.append(retrieve_original_from_compressed(list(sorted_results.keys())[i],lookup_table))"
      ],
      "metadata": {
        "id": "MWMYXkA21-LX"
      },
      "execution_count": 11,
      "outputs": []
    },
    {
      "cell_type": "code",
      "source": [
        "original_string = retrieve_original_from_compressed(max(result.circuit_results[0], key=result.circuit_results[0].get),lookup_table)\n",
        "answer = [0]*len(original_string)\n",
        "for i in range(len(original_string)):\n",
        "    if original_string[i] == \"0\":\n",
        "        answer[i] = \"-\"\n",
        "    if original_string[i] == \"1\":\n",
        "        answer[i] = \"M\"\n",
        "answer = ''.join(answer)\n",
        "key = find_keys_by_value(codes, answer)\n",
        "item = max(result.circuit_results[0], key=result.circuit_results[0].get)\n",
        "print(f'YEAST is most similar to {key[0]} with similarity {sorted_results[item]}')"
      ],
      "metadata": {
        "colab": {
          "base_uri": "https://localhost:8080/"
        },
        "id": "8dY7Fwa72ENu",
        "outputId": "8651e6d2-41e8-4eec-bb67-5ab1beda053b"
      },
      "execution_count": 12,
      "outputs": [
        {
          "output_type": "stream",
          "name": "stdout",
          "text": [
            "YEAST is most similar to YEAST with similarity 0.0347909927368156\n"
          ]
        }
      ]
    },
    {
      "cell_type": "code",
      "source": [
        "other_string = recovered_answers[1]\n",
        "other_answer = [0]*len(other_string)\n",
        "for i in range(len(other_string)):\n",
        "    if other_string[i] == \"0\":\n",
        "        other_answer[i] = \"-\"\n",
        "    if other_string[i] == \"1\":\n",
        "        other_answer[i] = \"M\"\n",
        "other_answer = ''.join(other_answer)\n",
        "key = find_keys_by_value(codes, other_answer)\n",
        "item = find_keys_by_value(lookup_table, other_string)[0]\n",
        "print(f'YEAST is also similar to {key[0]} with similarity {sorted_results[item]}')"
      ],
      "metadata": {
        "colab": {
          "base_uri": "https://localhost:8080/"
        },
        "id": "w3gRJJSr2FOa",
        "outputId": "6a59901b-9bac-4f6d-f893-e79147f01ca5"
      },
      "execution_count": 13,
      "outputs": [
        {
          "output_type": "stream",
          "name": "stdout",
          "text": [
            "YEAST is also similar to BACTERIAL with similarity 0.0037851333618163\n"
          ]
        }
      ]
    },
    {
      "cell_type": "markdown",
      "source": [
        "## Circuit-based architecture"
      ],
      "metadata": {
        "id": "7SjhRlrpzi28"
      }
    },
    {
      "cell_type": "code",
      "source": [
        "n = math.ceil(math.log2(len(YEAST))) + 1\n",
        "qr = QuantumRegister(n)\n",
        "cr = ClassicalRegister(n)\n",
        "qc_yeast = encode_bitstring(YEAST, qr, cr)\n",
        "qc_protozoan = encode_bitstring(PROTOZOAN, qr, cr)\n",
        "qc_bacterial = encode_bitstring(BACTERIAL, qr, cr)\n",
        "circs = {\"YEAST\": qc_yeast, \"PROTOZOAN\": qc_protozoan, \"BACTERIAL\": qc_bacterial}"
      ],
      "metadata": {
        "id": "MxrED8_Z2HKy"
      },
      "execution_count": 16,
      "outputs": []
    },
    {
      "cell_type": "code",
      "source": [
        "inverse_qc_yeast = encode_bitstring(YEAST,qr,cr, inverse=True)\n",
        "inverse_qc_protozoan = encode_bitstring(PROTOZOAN, qr, cr, inverse=True)\n",
        "inverse_qc_bacterial = encode_bitstring(BACTERIAL, qr, cr, inverse=True)\n",
        "inverse_circs = {\"YEAST\": inverse_qc_yeast, \"PROTOZOAN\": inverse_qc_protozoan, \"BACTERIAL\": inverse_qc_bacterial}"
      ],
      "metadata": {
        "id": "I9yqTLJP2Kt0"
      },
      "execution_count": 17,
      "outputs": []
    },
    {
      "cell_type": "code",
      "source": [
        "key = \"PROTOZOAN\"\n",
        "shots = 1000\n",
        "\n",
        "combined_circs = {}\n",
        "count = {}\n",
        "\n",
        "most_similar, most_similar_score = \"\", -1.0\n",
        "\n",
        "for other_key in inverse_circs:\n",
        "    if other_key == key:\n",
        "        continue\n",
        "    combined_circs[other_key] = circs[key].compose(inverse_circs[other_key])\n",
        "    backend = Aer.get_backend(\"qasm_simulator\")\n",
        "    t_qc = transpile(combined_circs[other_key], backend=backend)\n",
        "    job = backend.run(t_qc)\n",
        "    st = job.result().get_counts(combined_circs[other_key])\n",
        "    if \"0\"*n in st:\n",
        "        sim_score = st[\"0\"*n]/shots\n",
        "    else:\n",
        "        sim_score = 0.0\n",
        "\n",
        "    print(\"Similarity score of\",key,\"and\",other_key,\"is\",sim_score)\n",
        "    if most_similar_score < sim_score:\n",
        "        most_similar, most_similar_score = other_key, sim_score\n",
        "\n",
        "print(key,\"is most similar to\", most_similar)"
      ],
      "metadata": {
        "colab": {
          "base_uri": "https://localhost:8080/"
        },
        "id": "_ya8LvrM2Mh_",
        "outputId": "0afb7c0c-b0da-42fe-a2db-3684d1ee58dd"
      },
      "execution_count": 18,
      "outputs": [
        {
          "output_type": "stream",
          "name": "stdout",
          "text": [
            "Similarity score of PROTOZOAN and YEAST is 0.024\n",
            "Similarity score of PROTOZOAN and BACTERIAL is 0.018\n",
            "PROTOZOAN is most similar to YEAST\n"
          ]
        }
      ]
    }
  ]
}