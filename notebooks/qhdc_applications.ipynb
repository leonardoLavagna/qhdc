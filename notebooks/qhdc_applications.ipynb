{
  "nbformat": 4,
  "nbformat_minor": 0,
  "metadata": {
    "colab": {
      "provenance": []
    },
    "kernelspec": {
      "name": "python3",
      "display_name": "Python 3"
    },
    "language_info": {
      "name": "python"
    }
  },
  "cells": [
    {
      "cell_type": "markdown",
      "source": [
        "# notebooks.qhdc_applications"
      ],
      "metadata": {
        "id": "x8zI0Hv0KmtL"
      }
    },
    {
      "cell_type": "markdown",
      "source": [
        "## Setup"
      ],
      "metadata": {
        "id": "rqo7HswDKrlq"
      }
    },
    {
      "cell_type": "code",
      "execution_count": 13,
      "metadata": {
        "colab": {
          "base_uri": "https://localhost:8080/"
        },
        "id": "a-07wmKFJxt0",
        "outputId": "4844b3c6-e89d-4ea0-f201-830faa3dab8d"
      },
      "outputs": [
        {
          "output_type": "stream",
          "name": "stdout",
          "text": [
            "Cloning into 'qhdc'...\n",
            "remote: Enumerating objects: 39, done.\u001b[K\n",
            "remote: Counting objects:   2% (1/39)\u001b[K\rremote: Counting objects:   5% (2/39)\u001b[K\rremote: Counting objects:   7% (3/39)\u001b[K\rremote: Counting objects:  10% (4/39)\u001b[K\rremote: Counting objects:  12% (5/39)\u001b[K\rremote: Counting objects:  15% (6/39)\u001b[K\rremote: Counting objects:  17% (7/39)\u001b[K\rremote: Counting objects:  20% (8/39)\u001b[K\rremote: Counting objects:  23% (9/39)\u001b[K\rremote: Counting objects:  25% (10/39)\u001b[K\rremote: Counting objects:  28% (11/39)\u001b[K\rremote: Counting objects:  30% (12/39)\u001b[K\rremote: Counting objects:  33% (13/39)\u001b[K\rremote: Counting objects:  35% (14/39)\u001b[K\rremote: Counting objects:  38% (15/39)\u001b[K\rremote: Counting objects:  41% (16/39)\u001b[K\rremote: Counting objects:  43% (17/39)\u001b[K\rremote: Counting objects:  46% (18/39)\u001b[K\rremote: Counting objects:  48% (19/39)\u001b[K\rremote: Counting objects:  51% (20/39)\u001b[K\rremote: Counting objects:  53% (21/39)\u001b[K\rremote: Counting objects:  56% (22/39)\u001b[K\rremote: Counting objects:  58% (23/39)\u001b[K\rremote: Counting objects:  61% (24/39)\u001b[K\rremote: Counting objects:  64% (25/39)\u001b[K\rremote: Counting objects:  66% (26/39)\u001b[K\rremote: Counting objects:  69% (27/39)\u001b[K\rremote: Counting objects:  71% (28/39)\u001b[K\rremote: Counting objects:  74% (29/39)\u001b[K\rremote: Counting objects:  76% (30/39)\u001b[K\rremote: Counting objects:  79% (31/39)\u001b[K\rremote: Counting objects:  82% (32/39)\u001b[K\rremote: Counting objects:  84% (33/39)\u001b[K\rremote: Counting objects:  87% (34/39)\u001b[K\rremote: Counting objects:  89% (35/39)\u001b[K\rremote: Counting objects:  92% (36/39)\u001b[K\rremote: Counting objects:  94% (37/39)\u001b[K\rremote: Counting objects:  97% (38/39)\u001b[K\rremote: Counting objects: 100% (39/39)\u001b[K\rremote: Counting objects: 100% (39/39), done.\u001b[K\n",
            "remote: Compressing objects: 100% (35/35), done.\u001b[K\n",
            "remote: Total 39 (delta 9), reused 0 (delta 0), pack-reused 0 (from 0)\u001b[K\n",
            "Receiving objects: 100% (39/39), 125.56 KiB | 4.65 MiB/s, done.\n",
            "Resolving deltas: 100% (9/9), done.\n"
          ]
        }
      ],
      "source": [
        "!git clone https://github.com/leonardoLavagna/qhdc"
      ]
    },
    {
      "cell_type": "code",
      "source": [
        "import math\n",
        "import os\n",
        "os.chdir('qhdc')"
      ],
      "metadata": {
        "id": "YlwlwWYnKkuX"
      },
      "execution_count": 14,
      "outputs": []
    },
    {
      "cell_type": "code",
      "source": [
        "!pip install -r requirements.txt"
      ],
      "metadata": {
        "colab": {
          "base_uri": "https://localhost:8080/"
        },
        "id": "3Ros3A8CLT49",
        "outputId": "0cdc300f-54e6-47ac-95c7-81476ea3a6a7"
      },
      "execution_count": 15,
      "outputs": [
        {
          "output_type": "stream",
          "name": "stdout",
          "text": [
            "Requirement already satisfied: scipy==1.11.4 in /usr/local/lib/python3.10/dist-packages (from -r requirements.txt (line 1)) (1.11.4)\n",
            "Requirement already satisfied: qiskit==1.1.1 in /usr/local/lib/python3.10/dist-packages (from -r requirements.txt (line 2)) (1.1.1)\n",
            "Requirement already satisfied: qiskit-algorithms==0.3.0 in /usr/local/lib/python3.10/dist-packages (from -r requirements.txt (line 3)) (0.3.0)\n",
            "Requirement already satisfied: qiskit_aer==0.14.2 in /usr/local/lib/python3.10/dist-packages (from -r requirements.txt (line 4)) (0.14.2)\n",
            "Requirement already satisfied: numpy<1.28.0,>=1.21.6 in /usr/local/lib/python3.10/dist-packages (from scipy==1.11.4->-r requirements.txt (line 1)) (1.26.4)\n",
            "Requirement already satisfied: rustworkx>=0.14.0 in /usr/local/lib/python3.10/dist-packages (from qiskit==1.1.1->-r requirements.txt (line 2)) (0.15.1)\n",
            "Requirement already satisfied: sympy>=1.3 in /usr/local/lib/python3.10/dist-packages (from qiskit==1.1.1->-r requirements.txt (line 2)) (1.13.1)\n",
            "Requirement already satisfied: dill>=0.3 in /usr/local/lib/python3.10/dist-packages (from qiskit==1.1.1->-r requirements.txt (line 2)) (0.3.9)\n",
            "Requirement already satisfied: python-dateutil>=2.8.0 in /usr/local/lib/python3.10/dist-packages (from qiskit==1.1.1->-r requirements.txt (line 2)) (2.8.2)\n",
            "Requirement already satisfied: stevedore>=3.0.0 in /usr/local/lib/python3.10/dist-packages (from qiskit==1.1.1->-r requirements.txt (line 2)) (5.4.0)\n",
            "Requirement already satisfied: typing-extensions in /usr/local/lib/python3.10/dist-packages (from qiskit==1.1.1->-r requirements.txt (line 2)) (4.12.2)\n",
            "Requirement already satisfied: symengine>=0.11 in /usr/local/lib/python3.10/dist-packages (from qiskit==1.1.1->-r requirements.txt (line 2)) (0.13.0)\n",
            "Requirement already satisfied: psutil>=5 in /usr/local/lib/python3.10/dist-packages (from qiskit_aer==0.14.2->-r requirements.txt (line 4)) (5.9.5)\n",
            "Requirement already satisfied: six>=1.5 in /usr/local/lib/python3.10/dist-packages (from python-dateutil>=2.8.0->qiskit==1.1.1->-r requirements.txt (line 2)) (1.17.0)\n",
            "Requirement already satisfied: pbr>=2.0.0 in /usr/local/lib/python3.10/dist-packages (from stevedore>=3.0.0->qiskit==1.1.1->-r requirements.txt (line 2)) (6.1.0)\n",
            "Requirement already satisfied: mpmath<1.4,>=1.1.0 in /usr/local/lib/python3.10/dist-packages (from sympy>=1.3->qiskit==1.1.1->-r requirements.txt (line 2)) (1.3.0)\n"
          ]
        }
      ]
    },
    {
      "cell_type": "markdown",
      "source": [
        "## Pattern completion"
      ],
      "metadata": {
        "id": "QqzkFL4OKstk"
      }
    },
    {
      "cell_type": "markdown",
      "source": [
        "### QuAM-based Architecture"
      ],
      "metadata": {
        "id": "xTwYvnGtMj8u"
      }
    },
    {
      "cell_type": "markdown",
      "source": [
        "First we solve the simple pattern completion problem introduced in https://arxiv.org/abs/quant-ph/9807053."
      ],
      "metadata": {
        "id": "rleVWGrfOEXv"
      }
    },
    {
      "cell_type": "code",
      "source": [
        "from functions.patterns_utilities import *\n",
        "from functions.QUAM import *\n",
        "from qiskit.visualization import plot_histogram"
      ],
      "metadata": {
        "id": "cEdRbrOKKwqh"
      },
      "execution_count": 16,
      "outputs": []
    },
    {
      "cell_type": "code",
      "source": [
        "patterns = generate_patterns(4,4)\n",
        "patterns"
      ],
      "metadata": {
        "colab": {
          "base_uri": "https://localhost:8080/"
        },
        "id": "FkndLWGaLKzH",
        "outputId": "31683e15-50b7-4567-8e33-6844fc78f6de"
      },
      "execution_count": 17,
      "outputs": [
        {
          "output_type": "execute_result",
          "data": {
            "text/plain": [
              "['0010', '0111', '1111', '1001']"
            ]
          },
          "metadata": {},
          "execution_count": 17
        }
      ]
    },
    {
      "cell_type": "code",
      "source": [
        "state, data = QuAM(patterns, search=\"110?\")"
      ],
      "metadata": {
        "id": "dgz6pfqFMXDg"
      },
      "execution_count": 18,
      "outputs": []
    },
    {
      "cell_type": "code",
      "source": [
        "print(state)\n",
        "plot_histogram(data)"
      ],
      "metadata": {
        "colab": {
          "base_uri": "https://localhost:8080/",
          "height": 492
        },
        "id": "v83S_5GFMY0f",
        "outputId": "d3593da3-bc59-4761-828f-f60afbe291b0"
      },
      "execution_count": 19,
      "outputs": [
        {
          "output_type": "stream",
          "name": "stdout",
          "text": [
            "0.50 |0010> + 0.50 |0111> + 0.50 |1001> + 0.50 |1111>\n"
          ]
        },
        {
          "output_type": "execute_result",
          "data": {
            "text/plain": [
              "<Figure size 640x480 with 1 Axes>"
            ],
            "image/png": "[encoded data removed]"
          },
          "metadata": {},
          "execution_count": 19
        }
      ]
    },
    {
      "cell_type": "markdown",
      "source": [
        "Now we solve an associated similarity problem: given a string `search` not in the QuAM extract from the QuAM the most similar pattern. There are two options\n",
        "\n",
        "**Option 1**\n",
        "- Generate boolean expression `expression = similarity(patterns,search)`\n",
        "- Build oracle `PhaseOracle(expression)`\n",
        "- Grover search with given oracle\n",
        "\n",
        "**Option 2**\n",
        "- Encode state `|similarity(patterns, search)>`\n",
        "- Run standard Grover to extended database `|patterns>, |similarity(patterns, search)>`\n",
        "\n",
        "We will focus on Option 1, Option 2 is yet to be implemented."
      ],
      "metadata": {
        "id": "aD2ydff-M7j1"
      }
    },
    {
      "cell_type": "code",
      "source": [
        "search = \"0101\""
      ],
      "metadata": {
        "id": "-7CzrKbpMwr6"
      },
      "execution_count": 20,
      "outputs": []
    },
    {
      "cell_type": "code",
      "source": [
        "result = grover_search(qc=None, x=None, c=None, output=None, xc=None, cc=None, R=None, s=search, patterns=patterns, problem=\"similarity\")\n",
        "max(result.circuit_results[0], key=result.circuit_results[0].get)"
      ],
      "metadata": {
        "colab": {
          "base_uri": "https://localhost:8080/",
          "height": 36
        },
        "id": "pLoLB1WQM031",
        "outputId": "04c352df-fa83-4c3b-b18f-69e87509efd2"
      },
      "execution_count": 21,
      "outputs": [
        {
          "output_type": "execute_result",
          "data": {
            "text/plain": [
              "'0111'"
            ],
            "application/vnd.google.colaboratory.intrinsic+json": {
              "type": "string"
            }
          },
          "metadata": {},
          "execution_count": 21
        }
      ]
    },
    {
      "cell_type": "code",
      "source": [
        "display(plot_histogram(result.circuit_results[0]))"
      ],
      "metadata": {
        "colab": {
          "base_uri": "https://localhost:8080/",
          "height": 454
        },
        "id": "Zwz4VBJwM_kq",
        "outputId": "a4482713-2f22-4740-d88c-8880b2c465b0"
      },
      "execution_count": 22,
      "outputs": [
        {
          "output_type": "display_data",
          "data": {
            "text/plain": [
              "<Figure size 640x480 with 1 Axes>"
            ],
            "image/png": "[encoded data removed]"
          },
          "metadata": {}
        }
      ]
    },
    {
      "cell_type": "markdown",
      "source": [
        "### Circuit-based architecture"
      ],
      "metadata": {
        "id": "hXOvwXRjMnBr"
      }
    },
    {
      "cell_type": "code",
      "source": [
        "def encode_bitstring(bitstring: str, qr: QuantumRegister,\n",
        "                     cr: ClassicalRegister, inverse=False) -> QuantumCircuit:\n",
        "    \"\"\"\n",
        "    Create a quantum circuit for constructing the quantum superposition of the bitstring.\n",
        "\n",
        "    Args:\n",
        "        bitstring (str): Binary string to encode in the quantum circuit.\n",
        "        qr (QuantumRegister): Quantum register to use for the circuit.\n",
        "        cr (ClassicalRegister): Classical register to use for the circuit.\n",
        "        inverse (bool): If True, creates the inverse of the encoding circuit.\n",
        "\n",
        "    Returns:\n",
        "        QuantumCircuit: Quantum circuit with the encoded bitstring.\n",
        "\n",
        "    Raises:\n",
        "        AssertionError: If the length of the bitstring is less than 2.\n",
        "    \"\"\"\n",
        "    n = math.ceil(math.log2(len(bitstring))) + 1\n",
        "    assert n > 2, \"the length of bitstring must be at least 2\"\n",
        "    qc = QuantumCircuit(qr, cr)\n",
        "    #the probability amplitude of the desired state\n",
        "    #initialized to zero\n",
        "    desired_vector = np.array([ 0.0 for i in range(2**n) ])\n",
        "    amplitude = np.sqrt(1.0/2**(n-1))\n",
        "    for i, b in enumerate(bitstring):\n",
        "        pos = i * 2\n",
        "        if b == \"1\":\n",
        "            pos += 1\n",
        "        desired_vector[pos] = amplitude\n",
        "    # Normalize the desired vector to ensure it has a norm of 1\n",
        "    desired_vector = desired_vector / np.linalg.norm(desired_vector)\n",
        "    if not inverse:\n",
        "        qc.initialize(desired_vector, qr)\n",
        "        qc.barrier(qr)\n",
        "    else:\n",
        "        # Create a copy of the initialization vector and cast it to real numbers\n",
        "        desired_vector_real = np.real(desired_vector)\n",
        "        qc.initialize(desired_vector_real,qr)\n",
        "        for i in range(n):\n",
        "            qc.measure(qr[i], cr[i])\n",
        "    return qc"
      ],
      "metadata": {
        "id": "9Y0cxoEZtk0j"
      },
      "execution_count": 23,
      "outputs": []
    },
    {
      "cell_type": "code",
      "source": [
        "# Get corresponding quantum circuits (direct)\n",
        "n = math.ceil(math.log2(len(patterns))) + 1\n",
        "qr = QuantumRegister(n)\n",
        "cr = ClassicalRegister(n)\n",
        "qc_1 = encode_bitstring(patterns[0], qr, cr)\n",
        "qc_2 = encode_bitstring(patterns[1], qr, cr)\n",
        "qc_3 = encode_bitstring(patterns[2], qr, cr)\n",
        "qc_4 = encode_bitstring(patterns[3], qr, cr)\n",
        "circs = {patterns[0]: qc_1, patterns[1]: qc_2, patterns[2]: qc_3, patterns[3]: qc_4}"
      ],
      "metadata": {
        "id": "2zFBMU-KMozO"
      },
      "execution_count": 24,
      "outputs": []
    },
    {
      "cell_type": "code",
      "source": [
        "# Get corresponding quantum circuits (inverse)\n",
        "inv_qc_1 = encode_bitstring(patterns[0], qr, cr, inverse=True)\n",
        "inv_qc_2 = encode_bitstring(patterns[1], qr, cr, inverse=True)\n",
        "inv_qc_3 = encode_bitstring(patterns[2], qr, cr, inverse=True)\n",
        "inv_qc_4 = encode_bitstring(patterns[3], qr, cr, inverse=True)\n",
        "inv_circs = {patterns[0]: inv_qc_1, patterns[1]: inv_qc_2, patterns[2]: inv_qc_3, patterns[3]: inv_qc_4}"
      ],
      "metadata": {
        "id": "kYSLuV4OtCQt"
      },
      "execution_count": 25,
      "outputs": []
    },
    {
      "cell_type": "code",
      "source": [
        "shots = 1000\n",
        "combined_circs = {}\n",
        "count = {}\n",
        "most_similar, most_similar_score = \"\", -1.0\n",
        "\n",
        "for other_key in inv_circs:\n",
        "    if other_key == search:\n",
        "        continue\n",
        "    combined_circs[other_key] = circs[other_key].compose(inv_circs[other_key])\n",
        "    backend = Aer.get_backend(\"qasm_simulator\")\n",
        "    t_qc = transpile(combined_circs[other_key], backend=backend)\n",
        "    job = backend.run(t_qc)\n",
        "    st = job.result().get_counts(combined_circs[other_key])\n",
        "    if \"0\"*n in st:\n",
        "        sim_score = st[\"0\"*n]/shots\n",
        "    else:\n",
        "        sim_score = 0.0\n",
        "\n",
        "    print(\"Similarity score of\",search,\"and\",other_key,\"is\",sim_score)\n",
        "    if most_similar_score < sim_score:\n",
        "        most_similar, most_similar_score = other_key, sim_score\n",
        "\n",
        "print(search,\"is most similar to\", most_similar)"
      ],
      "metadata": {
        "colab": {
          "base_uri": "https://localhost:8080/"
        },
        "id": "B7f6rpjIuGRw",
        "outputId": "fd61b7d5-27fa-41f4-dba3-dd53bc50953b"
      },
      "execution_count": 26,
      "outputs": [
        {
          "output_type": "stream",
          "name": "stdout",
          "text": [
            "Similarity score of 0101 and 0010 is 0.246\n",
            "Similarity score of 0101 and 0111 is 0.275\n",
            "Similarity score of 0101 and 1111 is 0.0\n",
            "Similarity score of 0101 and 1001 is 0.0\n",
            "0101 is most similar to 0111\n"
          ]
        }
      ]
    },
    {
      "cell_type": "markdown",
      "source": [
        "## Clustering task"
      ],
      "metadata": {
        "id": "nxocAZ-dMpVR"
      }
    },
    {
      "cell_type": "markdown",
      "source": [
        "### QuAM-based architecture"
      ],
      "metadata": {
        "id": "8LZDOUxCOr5Y"
      }
    },
    {
      "cell_type": "code",
      "source": [
        "# TO BE IMPLEMENTED"
      ],
      "metadata": {
        "id": "pktR0Xk3MsHC"
      },
      "execution_count": 27,
      "outputs": []
    },
    {
      "cell_type": "markdown",
      "source": [
        "## Circuit-based architecture"
      ],
      "metadata": {
        "id": "hpHx-x76OvPG"
      }
    },
    {
      "cell_type": "code",
      "source": [
        "# TO BE IMPLEMENTED"
      ],
      "metadata": {
        "id": "f-a7Hc5lOxKS"
      },
      "execution_count": 28,
      "outputs": []
    },
    {
      "cell_type": "markdown",
      "source": [
        "## Classification task"
      ],
      "metadata": {
        "id": "5gUco0pJOx7k"
      }
    },
    {
      "cell_type": "markdown",
      "source": [
        "We start with a bit-string similarity problem related to protozoan mithocondrial genetic codes extracted from https://www.bioinformatics.org/sms2/genetic_code.html."
      ],
      "metadata": {
        "id": "NH7ibAbUO71B"
      }
    },
    {
      "cell_type": "markdown",
      "source": [
        "### QuAM-based architecture"
      ],
      "metadata": {
        "id": "Q6P_5n9SPPqD"
      }
    },
    {
      "cell_type": "code",
      "source": [
        "# TO BE IMPLEMENTED"
      ],
      "metadata": {
        "id": "q6PfeC4PO0qb"
      },
      "execution_count": 29,
      "outputs": []
    },
    {
      "cell_type": "markdown",
      "source": [
        "### Circuit-based architecture"
      ],
      "metadata": {
        "id": "9KK31_7NPTKj"
      }
    },
    {
      "cell_type": "code",
      "source": [
        "def compress(binary_string: str, k: int) -> str:\n",
        "    \"\"\"\n",
        "    Compress a binary string to a fixed length k using SHA-256 hashing.\n",
        "\n",
        "    Args:\n",
        "        binary_string (str): The binary string to be compressed.\n",
        "        k (int): The length of the compressed binary string.\n",
        "\n",
        "    Returns:\n",
        "        str: The compressed binary string of length k.\n",
        "\n",
        "    Raises:\n",
        "        AssertionError: If the length of the binary string is not a multiple of 8.\n",
        "    \"\"\"\n",
        "    assert len(binary_string) % 8 == 0, \"Binary string length must be a multiple of 8\"\n",
        "    # Convert binary string to bytes\n",
        "    byte_length = len(binary_string) // 8\n",
        "    byte_data = int(binary_string, 2).to_bytes(byte_length, byteorder='big')\n",
        "    # Compute the SHA-256 hash of the byte data\n",
        "    hash_object = hashlib.sha256(byte_data)\n",
        "    hash_digest = hash_object.digest()\n",
        "    # Convert hash digest to a binary string\n",
        "    hash_binary_string = ''.join(format(byte, '08b') for byte in hash_digest)\n",
        "    # Take the first k bits of the binary hash string\n",
        "    compressed_binary_string = hash_binary_string[:k]\n",
        "    return compressed_binary_string\n",
        "\n",
        "\n",
        "def retrieve_original_from_compressed(compressed_string: str, lookup_table: Dict) -> str:\n",
        "    \"\"\"\n",
        "    Retrieve the original binary string from the compressed string using a lookup table.\n",
        "\n",
        "    Args:\n",
        "        compressed_string (str): The compressed binary string.\n",
        "\n",
        "    Returns:\n",
        "        str: The original binary string, or None if not found.\n",
        "    \"\"\"\n",
        "    return lookup_table.get(compressed_string, None)\n",
        "\n",
        "\n",
        "def find_keys_by_value(d: Dict, target_value) -> List:\n",
        "    \"\"\"\n",
        "    Find all keys in a dictionary that have a specific target value.\n",
        "\n",
        "    Args:\n",
        "        d (Dict): The dictionary to search.\n",
        "        target_value: The value to search for.\n",
        "\n",
        "    Returns:\n",
        "        List: A list of keys that have the target value.\n",
        "    \"\"\"\n",
        "    keys = [key for key, value in d.items() if value == target_value]\n",
        "    return keys"
      ],
      "metadata": {
        "id": "ZRAPEVadPxxz"
      },
      "execution_count": 30,
      "outputs": []
    },
    {
      "cell_type": "code",
      "source": [
        "YEAST     = \"----------------------------------MM----------------------------\"\n",
        "PROTOZOAN = \"--MM---------------M------------MMMM---------------M------------\"\n",
        "BACTERIAL = \"---M---------------M------------MMMM---------------M------------\"\n",
        "codes = {\"YEAST\": YEAST,\"PROTOZOAN\": PROTOZOAN,\"BACTERIAL\":BACTERIAL}"
      ],
      "metadata": {
        "id": "RHxJCXSpPXi4"
      },
      "execution_count": 31,
      "outputs": []
    },
    {
      "cell_type": "markdown",
      "source": [
        "### QuAM-based Architecture"
      ],
      "metadata": {
        "id": "fzVYJp5WQBOC"
      }
    },
    {
      "cell_type": "code",
      "source": [
        "# Preprocessing\n",
        "YEAST_bin = list(YEAST)\n",
        "PROTOZOAN_bin = list(PROTOZOAN)\n",
        "BACTERIAL_bin = list(BACTERIAL)\n",
        "for i in range(len(YEAST_bin)):\n",
        "    if YEAST_bin[i] == \"-\":\n",
        "        YEAST_bin[i] = 0\n",
        "    if YEAST_bin[i] == \"M\":\n",
        "        YEAST_bin[i] = 1\n",
        "for i in range(len(PROTOZOAN_bin)):\n",
        "    if PROTOZOAN_bin[i] == \"-\":\n",
        "        PROTOZOAN_bin[i] = 0\n",
        "    if PROTOZOAN_bin[i] == \"M\":\n",
        "        PROTOZOAN_bin[i] = 1\n",
        "for i in range(len(BACTERIAL_bin)):\n",
        "    if BACTERIAL_bin[i] == \"-\":\n",
        "        BACTERIAL_bin[i] = 0\n",
        "    if BACTERIAL_bin[i] == \"M\":\n",
        "        BACTERIAL_bin[i] = 1"
      ],
      "metadata": {
        "id": "J5_E-BFMQEUa"
      },
      "execution_count": 32,
      "outputs": []
    },
    {
      "cell_type": "code",
      "source": [
        "patterns = [''.join(str(bit) for bit in YEAST_bin), ''.join(str(bit) for bit in BACTERIAL_bin)]\n",
        "search = [''.join(str(bit) for bit in PROTOZOAN_bin)]\n",
        "search = search[0]\n",
        "search"
      ],
      "metadata": {
        "colab": {
          "base_uri": "https://localhost:8080/",
          "height": 36
        },
        "id": "3z__a9ohQc7M",
        "outputId": "97ca3359-6a92-46cd-9403-1ae1ebc106cd"
      },
      "execution_count": 33,
      "outputs": [
        {
          "output_type": "execute_result",
          "data": {
            "text/plain": [
              "'0011000000000000000100000000000011110000000000000001000000000000'"
            ],
            "application/vnd.google.colaboratory.intrinsic+json": {
              "type": "string"
            }
          },
          "metadata": {},
          "execution_count": 33
        }
      ]
    },
    {
      "cell_type": "markdown",
      "source": [
        "**Remark 2 .** If you try the following\n",
        "```\n",
        "result = grover_search(qc=None, x=None, c=None, output=None, xc=None, cc=None, R=None, s=search, patterns=patterns, problem=\"similarity\")\n",
        "max(result.circuit_results[0], key=result.circuit_results[0].get)\n",
        "```\n",
        "you will get an error:\n",
        "```\n",
        "---------------------------------------------------------------------------\n",
        "ValueError                                Traceback (most recent call last)\n",
        "<ipython-input-182-82261044df0e> in <cell line: 1>()\n",
        "----> 1 result = grover_search(qc=None, x=None, c=None, output=None, xc=None, cc=None, R=None, s=search, patterns=patterns, problem=\"similarity\")\n",
        "      2 max(result.circuit_results[0], key=result.circuit_results[0].get)\n",
        "\n",
        "1 frames\n",
        "/usr/local/lib/python3.10/dist-packages/qiskit/quantum_info/states/statevector.py in from_label(cls, label)\n",
        "    698         # Initialize Z eigenstate vector\n",
        "    699         num_qubits = len(label)\n",
        "--> 700         data = np.zeros(1 << num_qubits, dtype=complex)\n",
        "    701         pos = int(z_label, 2)\n",
        "    702         data[pos] = 1\n",
        "\n",
        "ValueError: Maximum allowed dimension exceeded\n",
        "```\n",
        "hashing is needed..."
      ],
      "metadata": {
        "id": "l0nGXVM3QfuU"
      }
    },
    {
      "cell_type": "code",
      "source": [
        "k = 8\n",
        "patterns_comp = []\n",
        "for pattern in patterns:\n",
        "    pattern = compress(pattern,k)\n",
        "    patterns_comp.append(pattern)\n",
        "search_comp = compress(search,k)\n",
        "print(patterns_comp, search_comp)\n",
        "\n",
        "lookup_table = {}\n",
        "for original_string in patterns:\n",
        "    compressed_string = compress(original_string,k)\n",
        "    lookup_table[compressed_string] = original_string\n",
        "lookup_table"
      ],
      "metadata": {
        "colab": {
          "base_uri": "https://localhost:8080/"
        },
        "id": "nHYo9ZM2QirJ",
        "outputId": "fa14e7c4-7e05-496a-9594-f689cea9317f"
      },
      "execution_count": 34,
      "outputs": [
        {
          "output_type": "stream",
          "name": "stdout",
          "text": [
            "['10011000', '01001110'] 10110001\n"
          ]
        },
        {
          "output_type": "execute_result",
          "data": {
            "text/plain": [
              "{'10011000': '0000000000000000000000000000000000110000000000000000000000000000',\n",
              " '01001110': '0001000000000000000100000000000011110000000000000001000000000000'}"
            ]
          },
          "metadata": {},
          "execution_count": 34
        }
      ]
    },
    {
      "cell_type": "markdown",
      "source": [
        "Now we can apply Grover..."
      ],
      "metadata": {
        "id": "PTMmml2FQmpz"
      }
    },
    {
      "cell_type": "code",
      "source": [
        "import operator\n",
        "\n",
        "result = grover_search(qc=None, x=None, c=None, output=None, xc=None, cc=None, R=None, s=search_comp, patterns=patterns_comp, problem=\"similarity\")\n",
        "sorted_results = dict(sorted(result.circuit_results[0].items(), key=operator.itemgetter(1), reverse=True))\n"
      ],
      "metadata": {
        "id": "ClQtuEsfQnFX"
      },
      "execution_count": 35,
      "outputs": []
    },
    {
      "cell_type": "code",
      "source": [
        "recovered_answers = []\n",
        "for i in range(len(list(sorted_results.keys()))):\n",
        "  if retrieve_original_from_compressed(list(sorted_results.keys())[i],lookup_table) is not None:\n",
        "    recovered_answers.append(retrieve_original_from_compressed(list(sorted_results.keys())[i],lookup_table))"
      ],
      "metadata": {
        "id": "TAx7d7CRoQH2"
      },
      "execution_count": 36,
      "outputs": []
    },
    {
      "cell_type": "code",
      "source": [
        "original_string = retrieve_original_from_compressed(max(result.circuit_results[0], key=result.circuit_results[0].get),lookup_table)\n",
        "answer = [0]*len(original_string)\n",
        "for i in range(len(original_string)):\n",
        "    if original_string[i] == \"0\":\n",
        "        answer[i] = \"-\"\n",
        "    if original_string[i] == \"1\":\n",
        "        answer[i] = \"M\"\n",
        "answer = ''.join(answer)\n",
        "key = find_keys_by_value(codes, answer)\n",
        "item = max(result.circuit_results[0], key=result.circuit_results[0].get)\n",
        "print(f'YEAST is most similar to {key[0]} with similarity {sorted_results[item]}')"
      ],
      "metadata": {
        "colab": {
          "base_uri": "https://localhost:8080/"
        },
        "id": "xh8tilhmnCFK",
        "outputId": "5199aa47-d446-434d-9074-336ca770e571"
      },
      "execution_count": 37,
      "outputs": [
        {
          "output_type": "stream",
          "name": "stdout",
          "text": [
            "YEAST is most similar to YEAST with similarity 0.0347909927368156\n"
          ]
        }
      ]
    },
    {
      "cell_type": "code",
      "source": [
        "other_string = recovered_answers[1]\n",
        "other_answer = [0]*len(other_string)\n",
        "for i in range(len(other_string)):\n",
        "    if other_string[i] == \"0\":\n",
        "        other_answer[i] = \"-\"\n",
        "    if other_string[i] == \"1\":\n",
        "        other_answer[i] = \"M\"\n",
        "other_answer = ''.join(other_answer)\n",
        "key = find_keys_by_value(codes, other_answer)\n",
        "item = find_keys_by_value(lookup_table, other_string)[0]\n",
        "print(f'YEAST is also similar to {key[0]} with similarity {sorted_results[item]}')"
      ],
      "metadata": {
        "colab": {
          "base_uri": "https://localhost:8080/"
        },
        "id": "MPfFGLqGmQZZ",
        "outputId": "42eeb1df-42fa-4689-8577-b4787cf769f0"
      },
      "execution_count": 38,
      "outputs": [
        {
          "output_type": "stream",
          "name": "stdout",
          "text": [
            "YEAST is also similar to BACTERIAL with similarity 0.0037851333618163\n"
          ]
        }
      ]
    },
    {
      "cell_type": "markdown",
      "source": [
        "### Circuit-based architecture"
      ],
      "metadata": {
        "id": "OvKdWjscQElW"
      }
    },
    {
      "cell_type": "code",
      "source": [
        "# Get corresponding quantum circuits (direct)\n",
        "n = math.ceil(math.log2(len(YEAST))) + 1\n",
        "qr = QuantumRegister(n)\n",
        "cr = ClassicalRegister(n)\n",
        "qc_yeast = encode_bitstring(YEAST, qr, cr)\n",
        "qc_protozoan = encode_bitstring(PROTOZOAN, qr, cr)\n",
        "qc_bacterial = encode_bitstring(BACTERIAL, qr, cr)\n",
        "circs = {\"YEAST\": qc_yeast, \"PROTOZOAN\": qc_protozoan, \"BACTERIAL\": qc_bacterial}\n",
        "#qc_yeast.draw()"
      ],
      "metadata": {
        "id": "8UR35T9VPbkN"
      },
      "execution_count": 39,
      "outputs": []
    },
    {
      "cell_type": "code",
      "source": [
        "# Get corresponding quantum circuits (inverse)\n",
        "inverse_qc_yeast = encode_bitstring(YEAST,qr,cr, inverse=True)\n",
        "inverse_qc_protozoan = encode_bitstring(PROTOZOAN, qr, cr, inverse=True)\n",
        "inverse_qc_bacterial = encode_bitstring(BACTERIAL, qr, cr, inverse=True)\n",
        "inverse_circs = {\"YEAST\": inverse_qc_yeast, \"PROTOZOAN\": inverse_qc_protozoan, \"BACTERIAL\": inverse_qc_bacterial}"
      ],
      "metadata": {
        "id": "VNege83fPfCC"
      },
      "execution_count": 40,
      "outputs": []
    },
    {
      "cell_type": "code",
      "source": [
        "key = \"PROTOZOAN\"\n",
        "shots = 1000\n",
        "\n",
        "combined_circs = {}\n",
        "count = {}\n",
        "\n",
        "most_similar, most_similar_score = \"\", -1.0\n",
        "\n",
        "for other_key in inverse_circs:\n",
        "    if other_key == key:\n",
        "        continue\n",
        "    combined_circs[other_key] = circs[key].compose(inverse_circs[other_key])\n",
        "    backend = Aer.get_backend(\"qasm_simulator\")\n",
        "    t_qc = transpile(combined_circs[other_key], backend=backend)\n",
        "    job = backend.run(t_qc)\n",
        "    st = job.result().get_counts(combined_circs[other_key])\n",
        "    if \"0\"*n in st:\n",
        "        sim_score = st[\"0\"*n]/shots\n",
        "    else:\n",
        "        sim_score = 0.0\n",
        "\n",
        "    print(\"Similarity score of\",key,\"and\",other_key,\"is\",sim_score)\n",
        "    if most_similar_score < sim_score:\n",
        "        most_similar, most_similar_score = other_key, sim_score\n",
        "\n",
        "print(key,\"is most similar to\", most_similar)"
      ],
      "metadata": {
        "colab": {
          "base_uri": "https://localhost:8080/"
        },
        "id": "SSTSVx1HPzqX",
        "outputId": "fc56d57e-aa53-4081-ce2f-e74150e3358d"
      },
      "execution_count": 41,
      "outputs": [
        {
          "output_type": "stream",
          "name": "stdout",
          "text": [
            "Similarity score of PROTOZOAN and YEAST is 0.008\n",
            "Similarity score of PROTOZOAN and BACTERIAL is 0.022\n",
            "PROTOZOAN is most similar to BACTERIAL\n"
          ]
        }
      ]
    }
  ]
}