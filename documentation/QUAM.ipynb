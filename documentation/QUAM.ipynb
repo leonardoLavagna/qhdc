{
 "cells": [
  {
   "cell_type": "markdown",
   "id": "bad8b2f3-9662-42ee-9fb0-7ce90afd5ea1",
   "metadata": {},
   "source": [
    "# documentation.functions"
   ]
  },
  {
   "cell_type": "code",
   "execution_count": 1,
   "id": "12ecbb81-2c89-4121-9737-b636371726f5",
   "metadata": {},
   "outputs": [],
   "source": [
    "import os\n",
    "os.chdir('..')"
   ]
  },
  {
   "cell_type": "markdown",
   "id": "e982d3aa-aa42-436b-a522-33948b49925a",
   "metadata": {},
   "source": [
    "Here we present the documentation for the functions `QUAM.py`, contained in the module `quam` of the `qhdc` project.\n",
    "```\n",
    "qhdc\n",
    "    |\n",
    "    |_ quam\n",
    "        |\n",
    "        |_ QUAM.py\n",
    "    |\n",
    "    .\n",
    "    .\n",
    "    .  \n",
    "```"
   ]
  },
  {
   "cell_type": "markdown",
   "id": "7408e631-478e-4449-a9bb-ddbbd9967e67",
   "metadata": {},
   "source": [
    "## QUAM"
   ]
  },
  {
   "cell_type": "markdown",
   "id": "a14f17fc-735c-41eb-b9b6-c84a6b0aec20",
   "metadata": {},
   "source": [
    "The following functions are the building blocks for a \"vanilla\" quantum associative memory as introduced by Martinez and Ventura in [arxiv.org/abs/quant-ph/9807053](https://arxiv.org/abs/quant-ph/9807053). Here we show how to use the quantum associative memory (QuAM) for a simple pattern completion problem."
   ]
  },
  {
   "cell_type": "code",
   "execution_count": 5,
   "id": "7a1e98ef-1a88-4ea9-925b-24dbf9861e04",
   "metadata": {},
   "outputs": [],
   "source": [
    "from quam import QUAM"
   ]
  },
  {
   "cell_type": "markdown",
   "id": "f3e36fc9-7536-4486-8afa-3c183ba3c0cc",
   "metadata": {},
   "source": [
    "### get_pattern\n",
    "`get_pattern(n, s)`\n",
    "\n",
    "Generates a bit string pattern.\n",
    "\n",
    "**Args**\n",
    "* `n` (int): Length of the pattern, corresponding to \\( 2^n \\) bits.\n",
    "* `s` (int or str): The bit string pattern. If `s` is an integer, it is converted to a binary string; if `s` is already a string, it is returned as is.\n",
    "\n",
    "**Returns**\n",
    "* `str`: The generated bit string pattern."
   ]
  },
  {
   "cell_type": "markdown",
   "id": "90b02b7a-9463-4ba3-aa0f-b76333764ef4",
   "metadata": {},
   "source": [
    "### multi_phase_gate\n",
    "`multi_phase_gate(qc, q, theta)`\n",
    "\n",
    "Applies a multi-qubit controlled phase rotation, applying a phase factor \\( e^{i\\theta} \\) if all qubits are in the \\( |1\\rangle \\) state.\n",
    "\n",
    "**Args**\n",
    "* `qc` (QuantumCircuit): The quantum circuit.\n",
    "* `q` (QuantumRegister): The quantum register.\n",
    "* `theta` (float): The rotation angle."
   ]
  },
  {
   "cell_type": "markdown",
   "id": "64996a7d-671e-4e21-93aa-67cdb39c86ed",
   "metadata": {},
   "source": [
    "### multi_CX_gate\n",
    "`multi_CX_gate(qc, q_controls, q_target, sig=None)`\n",
    "\n",
    "Applies a multi-qubit controlled-X gate based on a control signature.\n",
    "\n",
    "**Args**\n",
    "* `qc` (QuantumCircuit): The quantum circuit.\n",
    "* `q_controls` (QuantumRegister): The controlling qubits.\n",
    "* `q_target` (QuantumRegister): The target qubit.\n",
    "* `sig` (list): The control signature. Defaults to `[1, 1, ..., 1]`."
   ]
  },
  {
   "cell_type": "markdown",
   "id": "361a82ec-3811-4ec8-afd5-7b80c29c65ec",
   "metadata": {},
   "source": [
    "### multi_CZ_gate\n",
    "`multi_CZ_gate(qc, q_controls, q_target, sig=None)`\n",
    "\n",
    "Applies a multi-qubit controlled-Z gate based on a control signature.\n",
    "\n",
    "**Args**\n",
    "* `qc` (QuantumCircuit): The quantum circuit.\n",
    "* `q_controls` (QuantumRegister): The controlling qubits.\n",
    "* `q_target` (QuantumRegister): The target qubit.\n",
    "* `sig` (str): The control signature. Defaults to `\"11...1\"`."
   ]
  },
  {
   "cell_type": "markdown",
   "id": "ff605daf-8d6a-4963-af0b-9ada3242796c",
   "metadata": {},
   "source": [
    "### get_state\n",
    "`get_state(qc, x)`\n",
    "\n",
    "Retrieves the quantum state of a register.\n",
    "\n",
    "**Args**\n",
    "* `qc` (QuantumCircuit): The quantum circuit.\n",
    "* `x` (QuantumRegister): The quantum register.\n",
    "\n",
    "**Returns**\n",
    "* `str`: The quantum state as a string."
   ]
  },
  {
   "cell_type": "markdown",
   "id": "a084aa35-162a-44bf-b14a-977ed04507c1",
   "metadata": {},
   "source": [
    "### flip\n",
    "`flip(qc, x, c, patterns, index)`\n",
    "\n",
    "Applies controlled-X gates to flip the quantum register state based on the difference between patterns.\n",
    "\n",
    "**Args**\n",
    "* `qc` (QuantumCircuit): The quantum circuit.\n",
    "* `x` (QuantumRegister): The quantum register for input bits.\n",
    "* `c` (ClassicalRegister): The classical register for output bits.\n",
    "* `patterns` (List[str]): The list of bit string patterns.\n",
    "* `index` (int): The index of the current pattern."
   ]
  },
  {
   "cell_type": "markdown",
   "id": "a91142f4-10d1-4653-9e6e-bc6d85157eb9",
   "metadata": {},
   "source": [
    "### S_p\n",
    "`S_p(qc, c, p)`\n",
    "\n",
    "Applies the \\( S_p \\) gate, a controlled unitary gate, based on the value of \\( p \\).\n",
    "\n",
    "**Args**\n",
    "* `qc` (QuantumCircuit): The quantum circuit.\n",
    "* `c` (ClassicalRegister): The classical register for output bits.\n",
    "* `p` (int): The parameter value"
   ]
  },
  {
   "cell_type": "markdown",
   "id": "dbbda0da-0479-4af2-86ea-dadbc7527a46",
   "metadata": {},
   "source": [
    "### save\n",
    "`save(qc, x, c, patterns)`\n",
    "\n",
    "Saves multiple bit string patterns into a quantum state.\n",
    "\n",
    "**Args**\n",
    "* `qc` (QuantumCircuit): The quantum circuit.\n",
    "* `x` (QuantumRegister): The quantum register for input bits.\n",
    "* `c` (ClassicalRegister): The classical register for output bits.\n",
    "* `patterns` (List[str]): The list of bit string patterns to save."
   ]
  },
  {
   "cell_type": "markdown",
   "id": "bcc693f8-e7ac-4069-b29f-ad559225c1b6",
   "metadata": {},
   "source": [
    "### update\n",
    "`update(x, q)`\n",
    "\n",
    "Parses and updates a quantum register based on a query string.\n",
    "\n",
    "**Args**\n",
    "* `x` (QuantumRegister): The quantum register.\n",
    "* `q` (str): The query string.\n",
    "\n",
    "**Returns**\n",
    "* `Tuple[QuantumRegister, str]`: The updated quantum register and query string."
   ]
  },
  {
   "cell_type": "markdown",
   "id": "553ad45d-73a5-4d41-8228-74d28df58f2f",
   "metadata": {},
   "source": [
    "### grover_diffusion\n",
    "`grover_diffusion(qc, x)`\n",
    "\n",
    "Performs the inversion about the mean operation in Grover's algorithm.\n",
    "\n",
    "**Args**\n",
    "* `qc` (QuantumCircuit): The quantum circuit.\n",
    "* `x` (QuantumRegister): The quantum register."
   ]
  },
  {
   "cell_type": "markdown",
   "id": "5276842d-8d05-49ba-8be7-413f25e2e0e0",
   "metadata": {},
   "source": [
    "### grover_search\n",
    "`grover_search(qc, x, c, output, xc, cc, R, s, patterns, problem=\"pattern_completion\")`\n",
    "\n",
    "Implements Grover's search algorithm with a modified Grover iteration.\n",
    "\n",
    "**Args**\n",
    "* `qc` (QuantumCircuit): The quantum circuit.\n",
    "* `x` (QuantumRegister): The quantum register for input bits.\n",
    "* `c` (ClassicalRegister): The classical register for output bits.\n",
    "* `output` (list): The output qubits.\n",
    "* `xc` (QuantumRegister): The ancillary quantum register.\n",
    "* `cc` (ClassicalRegister): The ancillary classical register.\n",
    "* `R` (int): Number of iterations.\n",
    "* `s` (int): The target bit pattern.\n",
    "* `patterns` (List[str]): The list of bit string patterns.\n",
    "* `problem` (str): The problem type. Defaults to \"pattern_completion\"."
   ]
  },
  {
   "cell_type": "markdown",
   "id": "5a987fb1-e5aa-46e1-91fc-858ceb8e6a59",
   "metadata": {},
   "source": [
    "### QuAM\n",
    "`QuAM(patterns, search=None)`\n",
    "\n",
    "Implements Quantum Associative Memory (QuAM), which stores and retrieves bit string patterns.\n",
    "\n",
    "**Args**\n",
    "* `patterns` (List[str]): The list of bit string patterns.\n",
    "* `search` (str): The target bit string for search. Defaults to `None`.\n",
    "\n",
    "**Returns**\n",
    "* `Tuple[str, dict]`: The quantum state and the result data if `search` is provided. If not, only the quantum state is returned."
   ]
  },
  {
   "cell_type": "code",
   "execution_count": 9,
   "id": "75a40d53-9b1a-4c4e-a5cd-d7dcb2347cea",
   "metadata": {},
   "outputs": [
    {
     "name": "stdout",
     "output_type": "stream",
     "text": [
      "['0100', '1111', '0001', '0010']\n",
      "0.50 |0001> + 0.50 |0010> + 0.50 |0100> + 0.50 |1111>\n"
     ]
    },
    {
     "data": {
      "image/png": "[encoded data removed]",
      "text/plain": [
       "<Figure size 700x500 with 1 Axes>"
      ]
     },
     "execution_count": 9,
     "metadata": {},
     "output_type": "execute_result"
    }
   ],
   "source": [
    "from functions.patterns_utilities import generate_patterns\n",
    "from qiskit.visualization import plot_histogram\n",
    "\n",
    "patterns = generate_patterns(4,4)\n",
    "state, data = QUAM.QuAM(patterns, search=\"110?\")\n",
    "print(patterns)\n",
    "print(state)\n",
    "plot_histogram(data)"
   ]
  }
 ],
 "metadata": {
  "kernelspec": {
   "display_name": "Python 3 (ipykernel)",
   "language": "python",
   "name": "python3"
  },
  "language_info": {
   "codemirror_mode": {
    "name": "ipython",
    "version": 3
   },
   "file_extension": ".py",
   "mimetype": "text/x-python",
   "name": "python",
   "nbconvert_exporter": "python",
   "pygments_lexer": "ipython3",
   "version": "3.11.0"
  }
 },
 "nbformat": 4,
 "nbformat_minor": 5
}
