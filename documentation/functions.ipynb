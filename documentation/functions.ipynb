{
 "cells": [
  {
   "cell_type": "markdown",
   "id": "bad8b2f3-9662-42ee-9fb0-7ce90afd5ea1",
   "metadata": {},
   "source": [
    "# documentation.functions"
   ]
  },
  {
   "cell_type": "code",
   "execution_count": 1,
   "id": "12ecbb81-2c89-4121-9737-b636371726f5",
   "metadata": {},
   "outputs": [],
   "source": [
    "import os\n",
    "os.chdir('..')"
   ]
  },
  {
   "cell_type": "markdown",
   "id": "e982d3aa-aa42-436b-a522-33948b49925a",
   "metadata": {},
   "source": [
    "Here we present the documentation for the functions `circuits_utilities.py`, `patterns_utilities.py` and `QUAM.py`, contained in the module `functions` of the `qhdc` project.\n",
    "```\n",
    "qhdc\n",
    "    |\n",
    "    |_ functions\n",
    "        |\n",
    "        |_ circuits_utilities.py\n",
    "        |\n",
    "        |_ patterns_utilities.py\n",
    "    |\n",
    "    .\n",
    "    .\n",
    "    .  \n",
    "```"
   ]
  },
  {
   "cell_type": "markdown",
   "id": "a96fcfac-e56d-4173-a991-0c23113143b4",
   "metadata": {},
   "source": [
    "## circuits_utilities"
   ]
  },
  {
   "cell_type": "markdown",
   "id": "341f2f55-5147-4423-abf3-3044e48a82a7",
   "metadata": {},
   "source": [
    "The functions contained in `circuits_utilities` are used to generate various quantum circuits. The circuits include random circuits with a high probability of the zero state, tensor product circuits, entangled circuits, and circuits with general rotations."
   ]
  },
  {
   "cell_type": "code",
   "execution_count": 2,
   "id": "5d76f893-90cb-4b22-bbd4-c90054b03e25",
   "metadata": {},
   "outputs": [],
   "source": [
    "from functions import circuits_utilities as cu"
   ]
  },
  {
   "cell_type": "markdown",
   "id": "71994927-775f-49ed-bf42-5c2baab8259c",
   "metadata": {},
   "source": [
    "### create_random_circuit_with_high_zero_prob\n",
    "`create_random_circuit_with_high_zero_prob(n)`\n",
    "\n",
    "Generates a random quantum circuit with \\( n \\) qubits and \\( n \\) classical bits, ensuring a high probability of measuring the zero state.\n",
    "\n",
    "**Args**\n",
    "* `n` (int): Number of qubits and classical bits in the circuit.\n",
    "\n",
    "**Returns**\n",
    "* `QuantumCircuit`: A quantum circuit that has a high probability of resulting in the zero state when measured."
   ]
  },
  {
   "cell_type": "code",
   "execution_count": 3,
   "id": "4d971586-b64b-4f2c-bc79-098f1909c417",
   "metadata": {},
   "outputs": [
    {
     "name": "stdout",
     "output_type": "stream",
     "text": [
      "     ┌───┐          ┌───┐     \n",
      "q_0: ┤ H ├───────■──┤ H ├─────\n",
      "     ├───┤┌───┐  │  └───┘┌───┐\n",
      "q_1: ┤ H ├┤ X ├──┼────■──┤ H ├\n",
      "     ├───┤└─┬─┘┌─┴─┐┌─┴─┐├───┤\n",
      "q_2: ┤ H ├──■──┤ X ├┤ X ├┤ H ├\n",
      "     └───┘     └───┘└───┘└───┘\n",
      "c: 3/═════════════════════════\n",
      "                              \n"
     ]
    }
   ],
   "source": [
    "# Create the circuit\n",
    "n = 3\n",
    "qc = cu.create_random_circuit_with_high_zero_prob(n)\n",
    "print(qc)"
   ]
  },
  {
   "cell_type": "code",
   "execution_count": 4,
   "id": "f00780f9-6239-45fd-927f-abca39f82d58",
   "metadata": {},
   "outputs": [
    {
     "data": {
      "image/png": "[encoded data removed]",
      "text/plain": [
       "<Figure size 700x500 with 1 Axes>"
      ]
     },
     "execution_count": 4,
     "metadata": {},
     "output_type": "execute_result"
    }
   ],
   "source": [
    "from qiskit import QuantumCircuit, transpile\n",
    "from qiskit.visualization import plot_histogram\n",
    "from qiskit_aer import Aer\n",
    "\n",
    "# Check that the created circuit results in the zero state with high probability\n",
    "backend = Aer.get_backend(\"qasm_simulator\")\n",
    "qc.measure(range(n),range(n))\n",
    "t_qc = transpile(qc, backend=backend)\n",
    "job = backend.run(t_qc)\n",
    "result = job.result().get_counts()\n",
    "plot_histogram(result)"
   ]
  },
  {
   "cell_type": "markdown",
   "id": "a59f093a-61f9-4cb7-9eb5-07a0f59957be",
   "metadata": {},
   "source": [
    "### tensor_product_circuits\n",
    "`juxtaposition_circuits(qc_1, qc_2)`\n",
    "\n",
    "Creates a new quantum circuit that is the juxtaposition of two given quantum circuits.\n",
    "\n",
    "**Args**\n",
    "* `qc_1` (QuantumCircuit): The first quantum circuit.\n",
    "* `qc_2` (QuantumCircuit): The second quantum circuit.\n",
    "\n",
    "**Returns**\n",
    "* `QuantumCircuit`: A quantum circuit that represents the juxtaposition of `qc_1` and `qc_2`."
   ]
  },
  {
   "cell_type": "code",
   "execution_count": 5,
   "id": "25f7c20c-32cd-4da4-b9ce-95ed2c1bcae3",
   "metadata": {},
   "outputs": [
    {
     "name": "stdout",
     "output_type": "stream",
     "text": [
      "     ┌───┐          ┌───┐ ░ ┌───┐┌───┐┌───┐\n",
      "q_0: ┤ H ├───────■──┤ H ├─░─┤ H ├┤ X ├┤ H ├\n",
      "     ├───┤       │  ├───┤ ░ ├───┤└─┬─┘├───┤\n",
      "q_1: ┤ H ├──■────┼──┤ H ├─░─┤ H ├──■──┤ H ├\n",
      "     ├───┤┌─┴─┐┌─┴─┐├───┤ ░ ├───┤┌───┐└───┘\n",
      "q_2: ┤ H ├┤ X ├┤ X ├┤ H ├─░─┤ H ├┤ H ├─────\n",
      "     └───┘└───┘└───┘└───┘ ░ └───┘└───┘     \n",
      "c: 3/══════════════════════════════════════\n",
      "                                           \n"
     ]
    }
   ],
   "source": [
    "qc_1 = cu.create_random_circuit_with_high_zero_prob(n)\n",
    "qc_1.barrier(range(n))\n",
    "qc_2 = cu.create_random_circuit_with_high_zero_prob(n)\n",
    "qc = cu.juxtaposition_circuits(qc_1,qc_2)\n",
    "print(qc)"
   ]
  },
  {
   "cell_type": "markdown",
   "id": "d97d83a5-a2b5-4414-abc6-65411222febe",
   "metadata": {},
   "source": [
    "### tensor_product_circuits\n",
    "`tensor_product_circuits(qc_1, qc_2)`\n",
    "\n",
    "Creates a new quantum circuit that is the tensor product of two given quantum circuits.\n",
    "\n",
    "**Args**\n",
    "* `qc_1` (QuantumCircuit): The first quantum circuit.\n",
    "* `qc_2` (QuantumCircuit): The second quantum circuit.\n",
    "\n",
    "**Returns**\n",
    "* `QuantumCircuit`: A quantum circuit that represents the tensor product of `qc_1` and `qc_2`."
   ]
  },
  {
   "cell_type": "code",
   "execution_count": 6,
   "id": "b0d484f2-ce85-49e7-95fb-681729b0ec6b",
   "metadata": {},
   "outputs": [
    {
     "name": "stdout",
     "output_type": "stream",
     "text": [
      "      ┌───┐     \n",
      "q4_0: ┤ H ├──■──\n",
      "      └───┘┌─┴─┐\n",
      "q4_1: ─────┤ X ├\n",
      "      ┌───┐└───┘\n",
      "q4_2: ┤ X ├─────\n",
      "      ├───┤     \n",
      "q4_3: ┤ Y ├─────\n",
      "      ├───┤     \n",
      "q4_4: ┤ Z ├─────\n",
      "      └───┘     \n",
      "c0: 5/══════════\n",
      "                \n"
     ]
    }
   ],
   "source": [
    "qc_1 = QuantumCircuit(n-1)\n",
    "qc_2 = QuantumCircuit(n)\n",
    "qc_1.h(0)\n",
    "qc_1.cx(0, 1)\n",
    "qc_2.x(0)\n",
    "qc_2.y(1)\n",
    "qc_2.z(2)\n",
    "qc_tensor_product = cu.tensor_product_circuits(qc_1, qc_2)\n",
    "print(qc_tensor_product.decompose())"
   ]
  },
  {
   "cell_type": "markdown",
   "id": "3178a29e-caa8-47f2-b207-cc789063ff3b",
   "metadata": {},
   "source": [
    "### create_entangled_circuit\n",
    "`create_entangled_circuit(qc_1, qc_2, entanglement_pattern)`\n",
    "\n",
    "Combines two quantum circuits with specified entanglement between their qubits.\n",
    "\n",
    "**Args**\n",
    "* `qc_1` (QuantumCircuit): The first quantum circuit.\n",
    "* `qc_2` (QuantumCircuit): The second quantum circuit.\n",
    "* `entanglement_pattern` (list): A list of tuples, where each tuple specifies qubits to be entangled as `(qubit_in_qc1, qubit_in_qc2)`.\n",
    "\n",
    "**Returns**\n",
    "* `QuantumCircuit`: A quantum circuit that combines `qc_1` and `qc_2` with entanglement defined by `entanglement_pattern`."
   ]
  },
  {
   "cell_type": "code",
   "execution_count": 7,
   "id": "be18c4b1-5359-4a02-a489-a7755566f006",
   "metadata": {},
   "outputs": [
    {
     "name": "stdout",
     "output_type": "stream",
     "text": [
      "      ┌───┐                         \n",
      "q5_0: ┤ H ├──■─────────■────────────\n",
      "      └───┘┌─┴─┐       │            \n",
      "q5_1: ─────┤ X ├──■────┼────■───────\n",
      "           └───┘┌─┴─┐  │    │       \n",
      "q5_2: ──────────┤ X ├──┼────┼────■──\n",
      "      ┌───┐     └───┘┌─┴─┐  │    │  \n",
      "q5_3: ┤ X ├──────────┤ X ├──┼────┼──\n",
      "      ├───┤          └───┘┌─┴─┐  │  \n",
      "q5_4: ┤ Y ├───────────────┤ X ├──┼──\n",
      "      ├───┤               └───┘┌─┴─┐\n",
      "q5_5: ┤ Z ├────────────────────┤ X ├\n",
      "      └───┘                    └───┘\n",
      "c1: 6/══════════════════════════════\n",
      "                                    \n"
     ]
    }
   ],
   "source": [
    "qc_1 = QuantumCircuit(n)\n",
    "qc_2 = QuantumCircuit(n)\n",
    "qc_1.h(0)\n",
    "qc_1.cx(0, 1)\n",
    "qc_1.cx(1, 2)\n",
    "qc_2.x(0)\n",
    "qc_2.y(1)\n",
    "qc_2.z(2)\n",
    "entanglement_pattern = [(0, 0), (1, 1), (2, 2)]\n",
    "qc_entangled = cu.create_entangled_circuit(qc_1, qc_2, entanglement_pattern)\n",
    "print(qc_entangled.decompose())"
   ]
  },
  {
   "cell_type": "markdown",
   "id": "596b2d9d-14b4-4c8c-b99d-89c93713e6b0",
   "metadata": {},
   "source": [
    "### create_rotation_circuit\n",
    "`create_rotation_circuit(n, theta)`\n",
    "\n",
    "Generates a quantum circuit that applies general rotations to every qubit.\n",
    "\n",
    "**Args**\n",
    "* `n` (int): Number of qubits in the circuit.\n",
    "* `theta` (float): The rotation angle (in radians) to be applied to each qubit.\n",
    "\n",
    "**Returns**\n",
    "* `QuantumCircuit`: A quantum circuit with rotations applied to each qubit using the specified angle `theta`."
   ]
  },
  {
   "cell_type": "code",
   "execution_count": 8,
   "id": "6f8d1ac2-66c0-4726-b77c-71cdd74f1dbe",
   "metadata": {},
   "outputs": [
    {
     "name": "stdout",
     "output_type": "stream",
     "text": [
      "      ┌─────────┐┌─────────┐┌─────────┐\n",
      "q6_0: ┤ Rx(π/4) ├┤ Ry(π/4) ├┤ Rz(π/4) ├\n",
      "      ├─────────┤├─────────┤├─────────┤\n",
      "q6_1: ┤ Rx(π/4) ├┤ Ry(π/4) ├┤ Rz(π/4) ├\n",
      "      ├─────────┤├─────────┤├─────────┤\n",
      "q6_2: ┤ Rx(π/4) ├┤ Ry(π/4) ├┤ Rz(π/4) ├\n",
      "      └─────────┘└─────────┘└─────────┘\n"
     ]
    }
   ],
   "source": [
    "import numpy as np\n",
    "\n",
    "theta = np.pi / 4\n",
    "qc = cu.create_rotation_circuit(n, theta)\n",
    "print(qc)"
   ]
  },
  {
   "cell_type": "markdown",
   "id": "a613e4f3-6550-4a34-8b60-8c8d78c21316",
   "metadata": {},
   "source": [
    "## patterns_utilities"
   ]
  },
  {
   "cell_type": "code",
   "execution_count": 9,
   "id": "8966fc0a-a523-4e20-9d9d-d0e5c8cab04f",
   "metadata": {},
   "outputs": [],
   "source": [
    "from functions import patterns_utilities as pa"
   ]
  },
  {
   "cell_type": "markdown",
   "id": "c634989a-15f5-473a-ac62-2405d83d74b0",
   "metadata": {},
   "source": [
    "### generate_fixed_length_patterns\n",
    "`generate_fixed_length_patterns(n, l)`\n",
    "\n",
    "Generates a list of binary strings of a fixed length.\n",
    "\n",
    "**Args**\n",
    "* `n` (int): Number of binary strings to generate.\n",
    "* `l` (int): The length of each binary string.\n",
    "\n",
    "**Returns**\n",
    "* `List[str]`: A list of binary strings of the specified length."
   ]
  },
  {
   "cell_type": "code",
   "execution_count": 10,
   "id": "ea845b4e-050c-4c09-9f07-fe5c10ba6ad8",
   "metadata": {},
   "outputs": [
    {
     "name": "stdout",
     "output_type": "stream",
     "text": [
      "['000', '001']\n"
     ]
    }
   ],
   "source": [
    "n = 2\n",
    "l = 3\n",
    "patterns = pa.generate_fixed_length_patterns(n, l)\n",
    "print(patterns)"
   ]
  },
  {
   "cell_type": "markdown",
   "id": "e640ac37-a98c-412c-b7d7-aeb588cfe4d1",
   "metadata": {},
   "source": [
    "### generate_patterns\n",
    "`generate_patterns(n, m)`\n",
    "\n",
    "Generates a list of \\( m \\) random binary strings of length \\( n \\).\n",
    "\n",
    "**Args**\n",
    "* `n` (int): Length of each binary string.\n",
    "* `m` (int): Number of binary string patterns to generate.\n",
    "\n",
    "**Returns**\n",
    "* `List[str]`: A list of randomly generated binary string patterns."
   ]
  },
  {
   "cell_type": "code",
   "execution_count": 11,
   "id": "56ed1c15-e772-4d25-a3ac-7edea0e03b04",
   "metadata": {},
   "outputs": [
    {
     "name": "stdout",
     "output_type": "stream",
     "text": [
      "['01', '10', '11']\n"
     ]
    }
   ],
   "source": [
    "m = 3\n",
    "patterns = pa.generate_patterns(n,m)\n",
    "print(patterns)"
   ]
  },
  {
   "cell_type": "markdown",
   "id": "6ada3736-66a3-4d80-bc41-d5573f7a0ec9",
   "metadata": {},
   "source": [
    "### similarity\n",
    "`similarity(patterns, search, type=\"Hamming\")`\n",
    "\n",
    "Computes the similarity between a list of binary strings and a search string using a specified similarity measure.\n",
    "\n",
    "**Args**\n",
    "* `patterns` (List[str]): A list of binary strings to compare.\n",
    "* `search` (str): A binary string to compare against the patterns.\n",
    "* `type` (str): The similarity measure to use. Defaults to \"Hamming\".\n",
    "\n",
    "**Returns**\n",
    "* `Tuple[int, float]`: The index of the most similar pattern and the similarity score.\n",
    "\n",
    "**Raises**\n",
    "* `NotImplementedError`: If a similarity measure other than \"Hamming\" is requested.\n"
   ]
  },
  {
   "cell_type": "code",
   "execution_count": 12,
   "id": "3982910a-ff74-4257-b748-5588522b90b4",
   "metadata": {},
   "outputs": [
    {
     "name": "stdout",
     "output_type": "stream",
     "text": [
      "(1, 0.0)\n"
     ]
    }
   ],
   "source": [
    "search = '10'\n",
    "similarities = pa.similarity(patterns, search)\n",
    "print(similarities)"
   ]
  },
  {
   "cell_type": "markdown",
   "id": "52e05152-7282-4b1c-8b4a-9636608fc217",
   "metadata": {},
   "source": [
    "### generate_expression\n",
    "`generate_expression(patterns, search)`\n",
    "\n",
    "Finds the binary string in a list that is most similar to a search string.\n",
    "\n",
    "**Args**\n",
    "* `patterns` (List[str]): A list of binary strings to compare.\n",
    "* `search` (str): The binary string to search for within the patterns.\n",
    "\n",
    "**Returns**\n",
    "* `str`: The binary string from the list that is most similar to the search string."
   ]
  },
  {
   "cell_type": "code",
   "execution_count": 13,
   "id": "3dfd633d-b951-4d10-ba96-8c2a67696eeb",
   "metadata": {},
   "outputs": [
    {
     "name": "stdout",
     "output_type": "stream",
     "text": [
      "10\n"
     ]
    }
   ],
   "source": [
    "expression = pa.generate_expression(patterns, search)\n",
    "print(expression)"
   ]
  },
  {
   "cell_type": "markdown",
   "id": "f6c4fe1f-0a44-4709-9c8a-d792b1707265",
   "metadata": {},
   "source": [
    "### compress\n",
    "`compress(binary_string, k)`\n",
    "\n",
    "Compresses a binary string to a fixed length \\( k \\) using SHA-256 hashing.\n",
    "\n",
    "**Args**\n",
    "* `binary_string` (str): The binary string to compress.\n",
    "* `k` (int): The desired length of the compressed binary string.\n",
    "\n",
    "**Returns**\n",
    "* `str`: The compressed binary string of length \\( k \\).\n",
    "\n",
    "**Raises**\n",
    "* `AssertionError`: If the length of the binary string is not a multiple of 8."
   ]
  },
  {
   "cell_type": "code",
   "execution_count": 14,
   "id": "98ef1943-0cc6-426a-97da-7f678094ab62",
   "metadata": {},
   "outputs": [
    {
     "name": "stdout",
     "output_type": "stream",
     "text": [
      "0100001011\n"
     ]
    }
   ],
   "source": [
    "binary_string = pa.generate_patterns(80,1)[0]\n",
    "compressed_string = pa.compress(binary_string, 10)\n",
    "print(compressed_string)"
   ]
  },
  {
   "cell_type": "markdown",
   "id": "2fa9e4f2-97a4-4d7f-8e66-efe407b0007e",
   "metadata": {},
   "source": [
    "### retrieve_original_from_compressed\n",
    "`retrieve_original_from_compressed(compressed_string)`\n",
    "\n",
    "Retrieves the original binary string from a compressed string using a lookup table.\n",
    "\n",
    "**Args**\n",
    "* `compressed_string` (str): The compressed binary string.\n",
    "\n",
    "**Returns**\n",
    "* `str`: The original binary string, or `None` if not found."
   ]
  },
  {
   "cell_type": "code",
   "execution_count": 15,
   "id": "5db3a815-50a1-479d-99f4-777e9765c175",
   "metadata": {},
   "outputs": [
    {
     "name": "stdout",
     "output_type": "stream",
     "text": [
      "00110000011110001111001010100100010011000100000010111010010111000101100101111111\n",
      "00110000011110001111001010100100010011000100000010111010010111000101100101111111\n"
     ]
    }
   ],
   "source": [
    "lookup_table = {}\n",
    "lookup_table[compressed_string] = binary_string\n",
    "retrieved_string = pa.retrieve_original_from_compressed(compressed_string, lookup_table)\n",
    "print(retrieved_string)\n",
    "print(binary_string)"
   ]
  },
  {
   "cell_type": "markdown",
   "id": "e4cd7b81-5cae-4a30-adc8-6474ab98eaff",
   "metadata": {},
   "source": [
    "### find_keys_by_value\n",
    "`find_keys_by_value(d, target_value)`\n",
    "\n",
    "Finds all keys in a dictionary that have a specific target value.\n",
    "\n",
    "**Args**\n",
    "* `d` (Dict): The dictionary to search.\n",
    "* `target_value`: The value to search for.\n",
    "\n",
    "**Returns**\n",
    "* `List`: A list of keys that have the target value."
   ]
  },
  {
   "cell_type": "code",
   "execution_count": 16,
   "id": "6f90a598-49a6-468c-88e5-1f2e20539d0e",
   "metadata": {},
   "outputs": [
    {
     "data": {
      "text/plain": [
       "['0100001011']"
      ]
     },
     "execution_count": 16,
     "metadata": {},
     "output_type": "execute_result"
    }
   ],
   "source": [
    "pa.find_keys_by_value(lookup_table, binary_string)"
   ]
  }
 ],
 "metadata": {
  "kernelspec": {
   "display_name": "Python 3 (ipykernel)",
   "language": "python",
   "name": "python3"
  },
  "language_info": {
   "codemirror_mode": {
    "name": "ipython",
    "version": 3
   },
   "file_extension": ".py",
   "mimetype": "text/x-python",
   "name": "python",
   "nbconvert_exporter": "python",
   "pygments_lexer": "ipython3",
   "version": "3.11.0"
  }
 },
 "nbformat": 4,
 "nbformat_minor": 5
}
