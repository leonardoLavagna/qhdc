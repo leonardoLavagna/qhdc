{
  "cells": [
    {
      "cell_type": "markdown",
      "id": "bad8b2f3-9662-42ee-9fb0-7ce90afd5ea1",
      "metadata": {
        "id": "bad8b2f3-9662-42ee-9fb0-7ce90afd5ea1"
      },
      "source": [
        "# documentation.functions"
      ]
    },
    {
      "cell_type": "markdown",
      "id": "e982d3aa-aa42-436b-a522-33948b49925a",
      "metadata": {
        "id": "e982d3aa-aa42-436b-a522-33948b49925a"
      },
      "source": [
        "Here we present the documentation for the functions `circuits_utilities.py`, `patterns_utilities.py` and `QUAM.py`, contained in the module `functions` of the `qhdc` project.\n",
        "```\n",
        "qhdc\n",
        "    |\n",
        "    |_ functions\n",
        "        |\n",
        "        |_ circuits_utilities.py\n",
        "        |\n",
        "        |_ patterns_utilities.py\n",
        "        |\n",
        "        |_ QUAM.py\n",
        "    |\n",
        "    .\n",
        "    .\n",
        "    .  \n",
        "```"
      ]
    },
    {
      "cell_type": "markdown",
      "id": "a96fcfac-e56d-4173-a991-0c23113143b4",
      "metadata": {
        "id": "a96fcfac-e56d-4173-a991-0c23113143b4"
      },
      "source": [
        "## circuits_utilities"
      ]
    },
    {
      "cell_type": "markdown",
      "id": "341f2f55-5147-4423-abf3-3044e48a82a7",
      "metadata": {
        "id": "341f2f55-5147-4423-abf3-3044e48a82a7"
      },
      "source": [
        "The functions contained in `circuits_utilities` are used to generate various quantum circuits. The circuits include random circuits with a high probability of the zero state, tensor product circuits, entangled circuits, and circuits with general rotations."
      ]
    },
    {
      "cell_type": "code",
      "execution_count": 24,
      "id": "5d76f893-90cb-4b22-bbd4-c90054b03e25",
      "metadata": {
        "id": "5d76f893-90cb-4b22-bbd4-c90054b03e25"
      },
      "outputs": [],
      "source": [
        "from functions import circuits_utilities as cu"
      ]
    },
    {
      "cell_type": "markdown",
      "id": "71994927-775f-49ed-bf42-5c2baab8259c",
      "metadata": {
        "id": "71994927-775f-49ed-bf42-5c2baab8259c"
      },
      "source": [
        "### create_random_circuit_with_high_zero_prob\n",
        "`create_random_circuit_with_high_zero_prob(n)`\n",
        "\n",
        "Generates a random quantum circuit with \\( n \\) qubits and \\( n \\) classical bits, ensuring a high probability of measuring the zero state.\n",
        "\n",
        "**Args**\n",
        "* `n` (int): Number of qubits and classical bits in the circuit.\n",
        "\n",
        "**Returns**\n",
        "* `QuantumCircuit`: A quantum circuit that has a high probability of resulting in the zero state when measured."
      ]
    },
    {
      "cell_type": "code",
      "execution_count": 25,
      "id": "4d971586-b64b-4f2c-bc79-098f1909c417",
      "metadata": {
        "colab": {
          "base_uri": "https://localhost:8080/"
        },
        "id": "4d971586-b64b-4f2c-bc79-098f1909c417",
        "outputId": "4f8fd3aa-4a99-4e22-e35e-520c6f31dbc2"
      },
      "outputs": [
        {
          "output_type": "stream",
          "name": "stdout",
          "text": [
            "     ┌───┐               ┌───┐\n",
            "q_0: ┤ H ├───────■────■──┤ H ├\n",
            "     ├───┤       │  ┌─┴─┐├───┤\n",
            "q_1: ┤ H ├──■────┼──┤ X ├┤ H ├\n",
            "     ├───┤┌─┴─┐┌─┴─┐├───┤└───┘\n",
            "q_2: ┤ H ├┤ X ├┤ X ├┤ H ├─────\n",
            "     └───┘└───┘└───┘└───┘     \n",
            "c: 3/═════════════════════════\n",
            "                              \n"
          ]
        }
      ],
      "source": [
        "# Create the circuit\n",
        "n = 3\n",
        "qc = cu.create_random_circuit_with_high_zero_prob(n)\n",
        "print(qc)"
      ]
    },
    {
      "cell_type": "code",
      "execution_count": 26,
      "id": "f00780f9-6239-45fd-927f-abca39f82d58",
      "metadata": {
        "colab": {
          "base_uri": "https://localhost:8080/",
          "height": 445
        },
        "id": "f00780f9-6239-45fd-927f-abca39f82d58",
        "outputId": "6666f519-cb1d-4dd4-9b65-8598f2f1d210"
      },
      "outputs": [
        {
          "output_type": "execute_result",
          "data": {
            "text/plain": [
              "<Figure size 640x480 with 1 Axes>"
            ],
            "image/png": "[encoded data removed]"
          },
          "metadata": {},
          "execution_count": 26
        }
      ],
      "source": [
        "from qiskit import QuantumCircuit, transpile\n",
        "from qiskit.visualization import plot_histogram\n",
        "from qiskit_aer import Aer\n",
        "\n",
        "# Check that the created circuit results in the zero state with high probability\n",
        "backend = Aer.get_backend(\"qasm_simulator\")\n",
        "qc.measure(range(n),range(n))\n",
        "t_qc = transpile(qc, backend=backend)\n",
        "job = backend.run(t_qc)\n",
        "result = job.result().get_counts()\n",
        "plot_histogram(result)"
      ]
    },
    {
      "cell_type": "markdown",
      "id": "a59f093a-61f9-4cb7-9eb5-07a0f59957be",
      "metadata": {
        "id": "a59f093a-61f9-4cb7-9eb5-07a0f59957be"
      },
      "source": [
        "### tensor_product_circuits\n",
        "`juxtaposition_circuits(qc_1, qc_2)`\n",
        "\n",
        "Creates a new quantum circuit that is the juxtaposition of two given quantum circuits.\n",
        "\n",
        "**Args**\n",
        "* `qc_1` (QuantumCircuit): The first quantum circuit.\n",
        "* `qc_2` (QuantumCircuit): The second quantum circuit.\n",
        "\n",
        "**Returns**\n",
        "* `QuantumCircuit`: A quantum circuit that represents the juxtaposition of `qc_1` and `qc_2`."
      ]
    },
    {
      "cell_type": "code",
      "execution_count": 27,
      "id": "25f7c20c-32cd-4da4-b9ce-95ed2c1bcae3",
      "metadata": {
        "colab": {
          "base_uri": "https://localhost:8080/"
        },
        "id": "25f7c20c-32cd-4da4-b9ce-95ed2c1bcae3",
        "outputId": "9f36e905-17af-4502-c1ba-99f3934fb083"
      },
      "outputs": [
        {
          "output_type": "stream",
          "name": "stdout",
          "text": [
            "     ┌───┐     ┌───┐           ░ ┌───┐┌───┐     \n",
            "q_0: ┤ H ├──■──┤ H ├───────────░─┤ H ├┤ H ├─────\n",
            "     ├───┤┌─┴─┐└───┘     ┌───┐ ░ ├───┤├───┤┌───┐\n",
            "q_1: ┤ H ├┤ X ├──■────■──┤ H ├─░─┤ H ├┤ X ├┤ H ├\n",
            "     ├───┤└───┘┌─┴─┐┌─┴─┐├───┤ ░ ├───┤└─┬─┘├───┤\n",
            "q_2: ┤ H ├─────┤ X ├┤ X ├┤ H ├─░─┤ H ├──■──┤ H ├\n",
            "     └───┘     └───┘└───┘└───┘ ░ └───┘     └───┘\n",
            "c: 3/═══════════════════════════════════════════\n",
            "                                                \n"
          ]
        }
      ],
      "source": [
        "qc_1 = cu.create_random_circuit_with_high_zero_prob(n)\n",
        "qc_1.barrier(range(n))\n",
        "qc_2 = cu.create_random_circuit_with_high_zero_prob(n)\n",
        "qc = cu.juxtaposition_circuits(qc_1,qc_2)\n",
        "print(qc)"
      ]
    },
    {
      "cell_type": "markdown",
      "id": "d97d83a5-a2b5-4414-abc6-65411222febe",
      "metadata": {
        "id": "d97d83a5-a2b5-4414-abc6-65411222febe"
      },
      "source": [
        "### tensor_product_circuits\n",
        "`tensor_product_circuits(qc_1, qc_2)`\n",
        "\n",
        "Creates a new quantum circuit that is the tensor product of two given quantum circuits.\n",
        "\n",
        "**Args**\n",
        "* `qc_1` (QuantumCircuit): The first quantum circuit.\n",
        "* `qc_2` (QuantumCircuit): The second quantum circuit.\n",
        "\n",
        "**Returns**\n",
        "* `QuantumCircuit`: A quantum circuit that represents the tensor product of `qc_1` and `qc_2`."
      ]
    },
    {
      "cell_type": "code",
      "execution_count": 28,
      "id": "b0d484f2-ce85-49e7-95fb-681729b0ec6b",
      "metadata": {
        "colab": {
          "base_uri": "https://localhost:8080/"
        },
        "id": "b0d484f2-ce85-49e7-95fb-681729b0ec6b",
        "outputId": "ca951248-7503-4133-c6a3-0b87a76799d5"
      },
      "outputs": [
        {
          "output_type": "stream",
          "name": "stdout",
          "text": [
            "       ┌───┐     \n",
            "q15_0: ┤ H ├──■──\n",
            "       └───┘┌─┴─┐\n",
            "q15_1: ─────┤ X ├\n",
            "       ┌───┐└───┘\n",
            "q15_2: ┤ X ├─────\n",
            "       ├───┤     \n",
            "q15_3: ┤ Y ├─────\n",
            "       ├───┤     \n",
            "q15_4: ┤ Z ├─────\n",
            "       └───┘     \n",
            " c2: 5/══════════\n",
            "                 \n"
          ]
        }
      ],
      "source": [
        "qc_1 = QuantumCircuit(n-1)\n",
        "qc_2 = QuantumCircuit(n)\n",
        "qc_1.h(0)\n",
        "qc_1.cx(0, 1)\n",
        "qc_2.x(0)\n",
        "qc_2.y(1)\n",
        "qc_2.z(2)\n",
        "qc_tensor_product = cu.tensor_product_circuits(qc_1, qc_2)\n",
        "print(qc_tensor_product.decompose())"
      ]
    },
    {
      "cell_type": "markdown",
      "id": "3178a29e-caa8-47f2-b207-cc789063ff3b",
      "metadata": {
        "id": "3178a29e-caa8-47f2-b207-cc789063ff3b"
      },
      "source": [
        "### create_entangled_circuit\n",
        "`create_entangled_circuit(qc_1, qc_2, entanglement_pattern)`\n",
        "\n",
        "Combines two quantum circuits with specified entanglement between their qubits.\n",
        "\n",
        "**Args**\n",
        "* `qc_1` (QuantumCircuit): The first quantum circuit.\n",
        "* `qc_2` (QuantumCircuit): The second quantum circuit.\n",
        "* `entanglement_pattern` (list): A list of tuples, where each tuple specifies qubits to be entangled as `(qubit_in_qc1, qubit_in_qc2)`.\n",
        "\n",
        "**Returns**\n",
        "* `QuantumCircuit`: A quantum circuit that combines `qc_1` and `qc_2` with entanglement defined by `entanglement_pattern`."
      ]
    },
    {
      "cell_type": "code",
      "execution_count": 29,
      "id": "be18c4b1-5359-4a02-a489-a7755566f006",
      "metadata": {
        "colab": {
          "base_uri": "https://localhost:8080/"
        },
        "id": "be18c4b1-5359-4a02-a489-a7755566f006",
        "outputId": "e2a473e0-7a45-43cb-be80-842bdf887838"
      },
      "outputs": [
        {
          "output_type": "stream",
          "name": "stdout",
          "text": [
            "       ┌───┐                         \n",
            "q16_0: ┤ H ├──■─────────■────────────\n",
            "       └───┘┌─┴─┐       │            \n",
            "q16_1: ─────┤ X ├──■────┼────■───────\n",
            "            └───┘┌─┴─┐  │    │       \n",
            "q16_2: ──────────┤ X ├──┼────┼────■──\n",
            "       ┌───┐     └───┘┌─┴─┐  │    │  \n",
            "q16_3: ┤ X ├──────────┤ X ├──┼────┼──\n",
            "       ├───┤          └───┘┌─┴─┐  │  \n",
            "q16_4: ┤ Y ├───────────────┤ X ├──┼──\n",
            "       ├───┤               └───┘┌─┴─┐\n",
            "q16_5: ┤ Z ├────────────────────┤ X ├\n",
            "       └───┘                    └───┘\n",
            " c3: 6/══════════════════════════════\n",
            "                                     \n"
          ]
        }
      ],
      "source": [
        "qc_1 = QuantumCircuit(n)\n",
        "qc_2 = QuantumCircuit(n)\n",
        "qc_1.h(0)\n",
        "qc_1.cx(0, 1)\n",
        "qc_1.cx(1, 2)\n",
        "qc_2.x(0)\n",
        "qc_2.y(1)\n",
        "qc_2.z(2)\n",
        "entanglement_pattern = [(0, 0), (1, 1), (2, 2)]\n",
        "qc_entangled = cu.create_entangled_circuit(qc_1, qc_2, entanglement_pattern)\n",
        "print(qc_entangled.decompose())"
      ]
    },
    {
      "cell_type": "markdown",
      "id": "596b2d9d-14b4-4c8c-b99d-89c93713e6b0",
      "metadata": {
        "id": "596b2d9d-14b4-4c8c-b99d-89c93713e6b0"
      },
      "source": [
        "### create_rotation_circuit\n",
        "`create_rotation_circuit(n, theta)`\n",
        "\n",
        "Generates a quantum circuit that applies general rotations to every qubit.\n",
        "\n",
        "**Args**\n",
        "* `n` (int): Number of qubits in the circuit.\n",
        "* `theta` (float): The rotation angle (in radians) to be applied to each qubit.\n",
        "\n",
        "**Returns**\n",
        "* `QuantumCircuit`: A quantum circuit with rotations applied to each qubit using the specified angle `theta`."
      ]
    },
    {
      "cell_type": "code",
      "execution_count": 30,
      "id": "6f8d1ac2-66c0-4726-b77c-71cdd74f1dbe",
      "metadata": {
        "colab": {
          "base_uri": "https://localhost:8080/"
        },
        "id": "6f8d1ac2-66c0-4726-b77c-71cdd74f1dbe",
        "outputId": "9d2f408f-100a-4fa6-e85f-cb4b6c3bb944"
      },
      "outputs": [
        {
          "output_type": "stream",
          "name": "stdout",
          "text": [
            "       ┌─────────┐┌─────────┐┌─────────┐\n",
            "q17_0: ┤ Rx(π/4) ├┤ Ry(π/4) ├┤ Rz(π/4) ├\n",
            "       ├─────────┤├─────────┤├─────────┤\n",
            "q17_1: ┤ Rx(π/4) ├┤ Ry(π/4) ├┤ Rz(π/4) ├\n",
            "       ├─────────┤├─────────┤├─────────┤\n",
            "q17_2: ┤ Rx(π/4) ├┤ Ry(π/4) ├┤ Rz(π/4) ├\n",
            "       └─────────┘└─────────┘└─────────┘\n"
          ]
        }
      ],
      "source": [
        "import numpy as np\n",
        "\n",
        "theta = np.pi / 4\n",
        "qc = cu.create_rotation_circuit(n, theta)\n",
        "print(qc)"
      ]
    },
    {
      "cell_type": "markdown",
      "source": [
        "### generate_random_circuit_from_sequence\n",
        "`generate_random_circuit_from_sequence(sequence, n, depth)`\n",
        "\n",
        "Generates a random quantum circuit with high probability of measuring the zero state given a (DNA) sequence.\n",
        "\n",
        "**Args**\n",
        "- `sequence (List[char])`: A list of (DNA) strings.\n",
        "- `n (int)`: Number of qubits (default 3).\n",
        "- `depth (int)`: Depth (default 5).\n",
        "\n",
        "**Returns**\n",
        "- `QuantumCircuit`: A quantum circuit that has a high probability of measuring the zero state.\n"
      ],
      "metadata": {
        "id": "GRwBpTRaavVW"
      },
      "id": "GRwBpTRaavVW"
    },
    {
      "cell_type": "code",
      "source": [
        "sequence = 'GTA'\n",
        "qc = cu.generate_random_circuit_from_sequence(sequence)\n",
        "qc.draw()"
      ],
      "metadata": {
        "colab": {
          "base_uri": "https://localhost:8080/",
          "height": 294
        },
        "id": "_FyjqzhObXv6",
        "outputId": "a533d632-7ca1-454d-ceba-9c869eced1db"
      },
      "id": "_FyjqzhObXv6",
      "execution_count": 31,
      "outputs": [
        {
          "output_type": "execute_result",
          "data": {
            "text/plain": [
              "        ┌───┐┌─────────────┐┌─────────────┐┌─────────────┐ ┌─────────────┐ »\n",
              "   q_0: ┤ H ├┤ Rz(0.45286) ├┤ Rz(0.38111) ├┤ Rz(0.27528) ├─┤ Rz(0.42979) ├─»\n",
              "        ├───┤├─────────────┤├─────────────┤├─────────────┴┐├─────────────┴┐»\n",
              "   q_1: ┤ H ├┤ Rz(0.74754) ├┤ Rz(0.26578) ├┤ Rz(0.055054) ├┤ Rz(0.081392) ├»\n",
              "        ├───┤└┬────────────┤├─────────────┤├─────────────┬┘└┬────────────┬┘»\n",
              "   q_2: ┤ H ├─┤ Rz(0.5714) ├┤ Rz(0.21937) ├┤ Rz(0.77617) ├──┤ Rz(0.7018) ├─»\n",
              "        └───┘ └────────────┘└─────────────┘└─────────────┘  └────────────┘ »\n",
              "meas: 3/═══════════════════════════════════════════════════════════════════»\n",
              "                                                                           »\n",
              "«         ┌────────────┐ ░ ┌─┐      \n",
              "«   q_0: ─┤ Rx(1.2597) ├─░─┤M├──────\n",
              "«        ┌┴────────────┤ ░ └╥┘┌─┐   \n",
              "«   q_1: ┤ Rz(0.53938) ├─░──╫─┤M├───\n",
              "«        ├─────────────┤ ░  ║ └╥┘┌─┐\n",
              "«   q_2: ┤ Rz(0.32372) ├─░──╫──╫─┤M├\n",
              "«        └─────────────┘ ░  ║  ║ └╥┘\n",
              "«meas: 3/═══════════════════╩══╩══╩═\n",
              "«                           0  1  2 "
            ],
            "text/html": [
              "<pre style=\"word-wrap: normal;white-space: pre;background: #fff0;line-height: 1.1;font-family: &quot;Courier New&quot;,Courier,monospace\">        ┌───┐┌─────────────┐┌─────────────┐┌─────────────┐ ┌─────────────┐ »\n",
              "   q_0: ┤ H ├┤ Rz(0.45286) ├┤ Rz(0.38111) ├┤ Rz(0.27528) ├─┤ Rz(0.42979) ├─»\n",
              "        ├───┤├─────────────┤├─────────────┤├─────────────┴┐├─────────────┴┐»\n",
              "   q_1: ┤ H ├┤ Rz(0.74754) ├┤ Rz(0.26578) ├┤ Rz(0.055054) ├┤ Rz(0.081392) ├»\n",
              "        ├───┤└┬────────────┤├─────────────┤├─────────────┬┘└┬────────────┬┘»\n",
              "   q_2: ┤ H ├─┤ Rz(0.5714) ├┤ Rz(0.21937) ├┤ Rz(0.77617) ├──┤ Rz(0.7018) ├─»\n",
              "        └───┘ └────────────┘└─────────────┘└─────────────┘  └────────────┘ »\n",
              "meas: 3/═══════════════════════════════════════════════════════════════════»\n",
              "                                                                           »\n",
              "«         ┌────────────┐ ░ ┌─┐      \n",
              "«   q_0: ─┤ Rx(1.2597) ├─░─┤M├──────\n",
              "«        ┌┴────────────┤ ░ └╥┘┌─┐   \n",
              "«   q_1: ┤ Rz(0.53938) ├─░──╫─┤M├───\n",
              "«        ├─────────────┤ ░  ║ └╥┘┌─┐\n",
              "«   q_2: ┤ Rz(0.32372) ├─░──╫──╫─┤M├\n",
              "«        └─────────────┘ ░  ║  ║ └╥┘\n",
              "«meas: 3/═══════════════════╩══╩══╩═\n",
              "«                           0  1  2 </pre>"
            ]
          },
          "metadata": {},
          "execution_count": 31
        }
      ]
    },
    {
      "cell_type": "markdown",
      "source": [
        "### measure_zero_probability\n",
        "`measure_zero_probability(qc)`\n",
        "\n",
        "Executes a circuit and calculate the probability of measuring the zero state.\n",
        "\n",
        "**Args**\n",
        "- `qc (QuantumCircuit)`: A quantum circuit.\n",
        "\n",
        "**Returns**\n",
        "- `float`: the probability of measuring the zero state"
      ],
      "metadata": {
        "id": "4OQ4D9gOcZHy"
      },
      "id": "4OQ4D9gOcZHy"
    },
    {
      "cell_type": "code",
      "source": [
        "cu.measure_zero_probability(qc)"
      ],
      "metadata": {
        "colab": {
          "base_uri": "https://localhost:8080/"
        },
        "id": "Csj5r4EUcqVZ",
        "outputId": "8d7b205b-410a-495b-ff9f-49d1e7fc623e"
      },
      "id": "Csj5r4EUcqVZ",
      "execution_count": 32,
      "outputs": [
        {
          "output_type": "execute_result",
          "data": {
            "text/plain": [
              "0.2509765625"
            ]
          },
          "metadata": {},
          "execution_count": 32
        }
      ]
    },
    {
      "cell_type": "markdown",
      "id": "a613e4f3-6550-4a34-8b60-8c8d78c21316",
      "metadata": {
        "id": "a613e4f3-6550-4a34-8b60-8c8d78c21316"
      },
      "source": [
        "## patterns_utilities"
      ]
    },
    {
      "cell_type": "code",
      "execution_count": 33,
      "id": "8966fc0a-a523-4e20-9d9d-d0e5c8cab04f",
      "metadata": {
        "id": "8966fc0a-a523-4e20-9d9d-d0e5c8cab04f"
      },
      "outputs": [],
      "source": [
        "from functions import patterns_utilities as pu"
      ]
    },
    {
      "cell_type": "markdown",
      "id": "c634989a-15f5-473a-ac62-2405d83d74b0",
      "metadata": {
        "id": "c634989a-15f5-473a-ac62-2405d83d74b0"
      },
      "source": [
        "### generate_fixed_length_patterns\n",
        "`generate_fixed_length_patterns(n, l)`\n",
        "\n",
        "Generates a list of binary strings of a fixed length.\n",
        "\n",
        "**Args**\n",
        "* `n` (int): Number of binary strings to generate.\n",
        "* `l` (int): The length of each binary string.\n",
        "\n",
        "**Returns**\n",
        "* `List[str]`: A list of binary strings of the specified length."
      ]
    },
    {
      "cell_type": "code",
      "execution_count": 34,
      "id": "ea845b4e-050c-4c09-9f07-fe5c10ba6ad8",
      "metadata": {
        "colab": {
          "base_uri": "https://localhost:8080/"
        },
        "id": "ea845b4e-050c-4c09-9f07-fe5c10ba6ad8",
        "outputId": "a8270d6f-c8cf-40bb-b989-e294f3d05a59"
      },
      "outputs": [
        {
          "output_type": "stream",
          "name": "stdout",
          "text": [
            "['000', '001']\n"
          ]
        }
      ],
      "source": [
        "n = 2\n",
        "l = 3\n",
        "patterns = pu.generate_fixed_length_patterns(n, l)\n",
        "print(patterns)"
      ]
    },
    {
      "cell_type": "markdown",
      "id": "e640ac37-a98c-412c-b7d7-aeb588cfe4d1",
      "metadata": {
        "id": "e640ac37-a98c-412c-b7d7-aeb588cfe4d1"
      },
      "source": [
        "### generate_patterns\n",
        "`generate_patterns(n, m)`\n",
        "\n",
        "Generates a list of \\( m \\) random binary strings of length \\( n \\).\n",
        "\n",
        "**Args**\n",
        "* `n` (int): Length of each binary string.\n",
        "* `m` (int): Number of binary string patterns to generate.\n",
        "\n",
        "**Returns**\n",
        "* `List[str]`: A list of randomly generated binary string patterns."
      ]
    },
    {
      "cell_type": "code",
      "execution_count": 35,
      "id": "56ed1c15-e772-4d25-a3ac-7edea0e03b04",
      "metadata": {
        "colab": {
          "base_uri": "https://localhost:8080/"
        },
        "id": "56ed1c15-e772-4d25-a3ac-7edea0e03b04",
        "outputId": "fe545ab1-26f5-4c31-dde1-7d4bfbdb7765"
      },
      "outputs": [
        {
          "output_type": "stream",
          "name": "stdout",
          "text": [
            "['11', '00', '01']\n"
          ]
        }
      ],
      "source": [
        "m = 3\n",
        "patterns = pu.generate_patterns(n,m)\n",
        "print(patterns)"
      ]
    },
    {
      "cell_type": "markdown",
      "id": "6ada3736-66a3-4d80-bc41-d5573f7a0ec9",
      "metadata": {
        "id": "6ada3736-66a3-4d80-bc41-d5573f7a0ec9"
      },
      "source": [
        "### similarity\n",
        "`similarity(patterns, search, type=\"Hamming\")`\n",
        "\n",
        "Computes the similarity between a list of binary strings and a search string using a specified similarity measure.\n",
        "\n",
        "**Args**\n",
        "* `patterns` (List[str]): A list of binary strings to compare.\n",
        "* `search` (str): A binary string to compare against the patterns.\n",
        "* `type` (str): The similarity measure to use. Defaults to \"Hamming\".\n",
        "\n",
        "**Returns**\n",
        "* `Tuple[int, float]`: The index of the most similar pattern and the similarity score.\n",
        "\n",
        "**Raises**\n",
        "* `NotImplementedError`: If a similarity measure other than \"Hamming\" is requested.\n"
      ]
    },
    {
      "cell_type": "code",
      "execution_count": 36,
      "id": "3982910a-ff74-4257-b748-5588522b90b4",
      "metadata": {
        "colab": {
          "base_uri": "https://localhost:8080/"
        },
        "id": "3982910a-ff74-4257-b748-5588522b90b4",
        "outputId": "9250656b-2cc5-4d83-d713-b4bac6ad85be"
      },
      "outputs": [
        {
          "output_type": "stream",
          "name": "stdout",
          "text": [
            "(0, 0.5)\n"
          ]
        }
      ],
      "source": [
        "search = '10'\n",
        "similarities = pu.similarity(patterns, search)\n",
        "print(similarities)"
      ]
    },
    {
      "cell_type": "markdown",
      "id": "52e05152-7282-4b1c-8b4a-9636608fc217",
      "metadata": {
        "id": "52e05152-7282-4b1c-8b4a-9636608fc217"
      },
      "source": [
        "### generate_expression\n",
        "`generate_expression(patterns, search)`\n",
        "\n",
        "Finds the binary string in a list that is most similar to a search string.\n",
        "\n",
        "**Args**\n",
        "* `patterns` (List[str]): A list of binary strings to compare.\n",
        "* `search` (str): The binary string to search for within the patterns.\n",
        "\n",
        "**Returns**\n",
        "* `str`: The binary string from the list that is most similar to the search string."
      ]
    },
    {
      "cell_type": "code",
      "execution_count": 37,
      "id": "3dfd633d-b951-4d10-ba96-8c2a67696eeb",
      "metadata": {
        "colab": {
          "base_uri": "https://localhost:8080/"
        },
        "id": "3dfd633d-b951-4d10-ba96-8c2a67696eeb",
        "outputId": "a145021b-cc4e-4109-af00-491ed3e449eb"
      },
      "outputs": [
        {
          "output_type": "stream",
          "name": "stdout",
          "text": [
            "11\n"
          ]
        }
      ],
      "source": [
        "expression = pu.generate_expression(patterns, search)\n",
        "print(expression)"
      ]
    },
    {
      "cell_type": "markdown",
      "id": "f6c4fe1f-0a44-4709-9c8a-d792b1707265",
      "metadata": {
        "id": "f6c4fe1f-0a44-4709-9c8a-d792b1707265"
      },
      "source": [
        "### compress\n",
        "`compress(binary_string, k)`\n",
        "\n",
        "Compresses a binary string to a fixed length \\( k \\) using SHA-256 hashing.\n",
        "\n",
        "**Args**\n",
        "* `binary_string` (str): The binary string to compress.\n",
        "* `k` (int): The desired length of the compressed binary string.\n",
        "\n",
        "**Returns**\n",
        "* `str`: The compressed binary string of length \\( k \\).\n",
        "\n",
        "**Raises**\n",
        "* `AssertionError`: If the length of the binary string is not a multiple of 8."
      ]
    },
    {
      "cell_type": "code",
      "execution_count": 38,
      "id": "98ef1943-0cc6-426a-97da-7f678094ab62",
      "metadata": {
        "colab": {
          "base_uri": "https://localhost:8080/"
        },
        "id": "98ef1943-0cc6-426a-97da-7f678094ab62",
        "outputId": "d1149b90-1056-464e-8dd4-31844a6ca8f5"
      },
      "outputs": [
        {
          "output_type": "stream",
          "name": "stdout",
          "text": [
            "0100010001\n"
          ]
        }
      ],
      "source": [
        "binary_string = pu.generate_patterns(80,1)[0]\n",
        "compressed_string = pu.compress(binary_string, 10)\n",
        "print(compressed_string)"
      ]
    },
    {
      "cell_type": "markdown",
      "id": "2fa9e4f2-97a4-4d7f-8e66-efe407b0007e",
      "metadata": {
        "id": "2fa9e4f2-97a4-4d7f-8e66-efe407b0007e"
      },
      "source": [
        "### retrieve_original_from_compressed\n",
        "`retrieve_original_from_compressed(compressed_string)`\n",
        "\n",
        "Retrieves the original binary string from a compressed string using a lookup table.\n",
        "\n",
        "**Args**\n",
        "* `compressed_string` (str): The compressed binary string.\n",
        "\n",
        "**Returns**\n",
        "* `str`: The original binary string, or `None` if not found."
      ]
    },
    {
      "cell_type": "code",
      "execution_count": 39,
      "id": "5db3a815-50a1-479d-99f4-777e9765c175",
      "metadata": {
        "colab": {
          "base_uri": "https://localhost:8080/"
        },
        "id": "5db3a815-50a1-479d-99f4-777e9765c175",
        "outputId": "e3649fe4-9d62-4598-d20a-26da840b1f5b"
      },
      "outputs": [
        {
          "output_type": "stream",
          "name": "stdout",
          "text": [
            "00001111010011111000100011101101111001011111111111001011100011101000111110010011\n",
            "00001111010011111000100011101101111001011111111111001011100011101000111110010011\n"
          ]
        }
      ],
      "source": [
        "lookup_table = {}\n",
        "lookup_table[compressed_string] = binary_string\n",
        "retrieved_string = pu.retrieve_original_from_compressed(compressed_string, lookup_table)\n",
        "print(retrieved_string)\n",
        "print(binary_string)"
      ]
    },
    {
      "cell_type": "markdown",
      "id": "e4cd7b81-5cae-4a30-adc8-6474ab98eaff",
      "metadata": {
        "id": "e4cd7b81-5cae-4a30-adc8-6474ab98eaff"
      },
      "source": [
        "### find_keys_by_value\n",
        "`find_keys_by_value(d, target_value)`\n",
        "\n",
        "Finds all keys in a dictionary that have a specific target value.\n",
        "\n",
        "**Args**\n",
        "* `d` (Dict): The dictionary to search.\n",
        "* `target_value`: The value to search for.\n",
        "\n",
        "**Returns**\n",
        "* `List`: A list of keys that have the target value."
      ]
    },
    {
      "cell_type": "code",
      "execution_count": 40,
      "id": "6f90a598-49a6-468c-88e5-1f2e20539d0e",
      "metadata": {
        "colab": {
          "base_uri": "https://localhost:8080/"
        },
        "id": "6f90a598-49a6-468c-88e5-1f2e20539d0e",
        "outputId": "226962c9-16e5-4b54-cd81-eebdf51812bd"
      },
      "outputs": [
        {
          "output_type": "execute_result",
          "data": {
            "text/plain": [
              "['0100010001']"
            ]
          },
          "metadata": {},
          "execution_count": 40
        }
      ],
      "source": [
        "pu.find_keys_by_value(lookup_table, binary_string)"
      ]
    },
    {
      "cell_type": "markdown",
      "id": "f5bd88a3-4c91-40ec-851b-5b76af716803",
      "metadata": {
        "id": "f5bd88a3-4c91-40ec-851b-5b76af716803"
      },
      "source": [
        "## QUAM"
      ]
    },
    {
      "cell_type": "markdown",
      "id": "e708933d-d989-40c9-96f7-1d7641ce556f",
      "metadata": {
        "id": "e708933d-d989-40c9-96f7-1d7641ce556f"
      },
      "source": [
        "The following functions are the building blocks for a \"vanilla\" quantum associative memory as introduced by Martinez and Ventura in [arxiv.org/abs/quant-ph/9807053](https://arxiv.org/abs/quant-ph/9807053). Here we show how to use the quantum associative memory (QuAM) for a simple pattern completion problem."
      ]
    },
    {
      "cell_type": "code",
      "execution_count": 41,
      "id": "0d208a6b-ab41-42f7-a651-d798b8470a0a",
      "metadata": {
        "id": "0d208a6b-ab41-42f7-a651-d798b8470a0a"
      },
      "outputs": [],
      "source": [
        "from functions import QUAM"
      ]
    },
    {
      "cell_type": "markdown",
      "id": "ab300771-c7ab-4c77-99c8-4c004c02d6d8",
      "metadata": {
        "id": "ab300771-c7ab-4c77-99c8-4c004c02d6d8"
      },
      "source": [
        "### get_pattern\n",
        "`get_pattern(n, s)`\n",
        "\n",
        "Generates a bit string pattern.\n",
        "\n",
        "**Args**\n",
        "* `n` (int): Length of the pattern, corresponding to \\( 2^n \\) bits.\n",
        "* `s` (int or str): The bit string pattern. If `s` is an integer, it is converted to a binary string; if `s` is already a string, it is returned as is.\n",
        "\n",
        "**Returns**\n",
        "* `str`: The generated bit string pattern."
      ]
    },
    {
      "cell_type": "markdown",
      "id": "485dac89-973d-4dc4-ac31-3bd8d399109c",
      "metadata": {
        "id": "485dac89-973d-4dc4-ac31-3bd8d399109c"
      },
      "source": [
        "### multi_phase_gate\n",
        "`multi_phase_gate(qc, q, theta)`\n",
        "\n",
        "Applies a multi-qubit controlled phase rotation, applying a phase factor \\( e^{i\\theta} \\) if all qubits are in the \\( |1\\rangle \\) state.\n",
        "\n",
        "**Args**\n",
        "* `qc` (QuantumCircuit): The quantum circuit.\n",
        "* `q` (QuantumRegister): The quantum register.\n",
        "* `theta` (float): The rotation angle."
      ]
    },
    {
      "cell_type": "markdown",
      "id": "efb65467-8a90-4ac6-95f1-b6a27c891fa2",
      "metadata": {
        "id": "efb65467-8a90-4ac6-95f1-b6a27c891fa2"
      },
      "source": [
        "### multi_CX_gate\n",
        "`multi_CX_gate(qc, q_controls, q_target, sig=None)`\n",
        "\n",
        "Applies a multi-qubit controlled-X gate based on a control signature.\n",
        "\n",
        "**Args**\n",
        "* `qc` (QuantumCircuit): The quantum circuit.\n",
        "* `q_controls` (QuantumRegister): The controlling qubits.\n",
        "* `q_target` (QuantumRegister): The target qubit.\n",
        "* `sig` (list): The control signature. Defaults to `[1, 1, ..., 1]`."
      ]
    },
    {
      "cell_type": "markdown",
      "id": "bb7ad7b8-a26a-4868-95c3-8accddb79126",
      "metadata": {
        "id": "bb7ad7b8-a26a-4868-95c3-8accddb79126"
      },
      "source": [
        "### multi_CZ_gate\n",
        "`multi_CZ_gate(qc, q_controls, q_target, sig=None)`\n",
        "\n",
        "Applies a multi-qubit controlled-Z gate based on a control signature.\n",
        "\n",
        "**Args**\n",
        "* `qc` (QuantumCircuit): The quantum circuit.\n",
        "* `q_controls` (QuantumRegister): The controlling qubits.\n",
        "* `q_target` (QuantumRegister): The target qubit.\n",
        "* `sig` (str): The control signature. Defaults to `\"11...1\"`."
      ]
    },
    {
      "cell_type": "markdown",
      "id": "b29ef20b-5172-4146-a58e-be770dbd8a29",
      "metadata": {
        "id": "b29ef20b-5172-4146-a58e-be770dbd8a29"
      },
      "source": [
        "### get_state\n",
        "`get_state(qc, x)`\n",
        "\n",
        "Retrieves the quantum state of a register.\n",
        "\n",
        "**Args**\n",
        "* `qc` (QuantumCircuit): The quantum circuit.\n",
        "* `x` (QuantumRegister): The quantum register.\n",
        "\n",
        "**Returns**\n",
        "* `str`: The quantum state as a string."
      ]
    },
    {
      "cell_type": "markdown",
      "id": "bb99f0b6-271b-446f-ad74-be954f92a1ad",
      "metadata": {
        "id": "bb99f0b6-271b-446f-ad74-be954f92a1ad"
      },
      "source": [
        "### flip\n",
        "`flip(qc, x, c, patterns, index)`\n",
        "\n",
        "Applies controlled-X gates to flip the quantum register state based on the difference between patterns.\n",
        "\n",
        "**Args**\n",
        "* `qc` (QuantumCircuit): The quantum circuit.\n",
        "* `x` (QuantumRegister): The quantum register for input bits.\n",
        "* `c` (ClassicalRegister): The classical register for output bits.\n",
        "* `patterns` (List[str]): The list of bit string patterns.\n",
        "* `index` (int): The index of the current pattern."
      ]
    },
    {
      "cell_type": "markdown",
      "id": "715017a7-d625-4f92-a551-b9fec72d1c54",
      "metadata": {
        "id": "715017a7-d625-4f92-a551-b9fec72d1c54"
      },
      "source": [
        "### S_p\n",
        "`S_p(qc, c, p)`\n",
        "\n",
        "Applies the \\( S_p \\) gate, a controlled unitary gate, based on the value of \\( p \\).\n",
        "\n",
        "**Args**\n",
        "* `qc` (QuantumCircuit): The quantum circuit.\n",
        "* `c` (ClassicalRegister): The classical register for output bits.\n",
        "* `p` (int): The parameter value"
      ]
    },
    {
      "cell_type": "markdown",
      "id": "f0255ceb-2d4c-46bf-af45-7f21c3e6710d",
      "metadata": {
        "id": "f0255ceb-2d4c-46bf-af45-7f21c3e6710d"
      },
      "source": [
        "### save\n",
        "`save(qc, x, c, patterns)`\n",
        "\n",
        "Saves multiple bit string patterns into a quantum state.\n",
        "\n",
        "**Args**\n",
        "* `qc` (QuantumCircuit): The quantum circuit.\n",
        "* `x` (QuantumRegister): The quantum register for input bits.\n",
        "* `c` (ClassicalRegister): The classical register for output bits.\n",
        "* `patterns` (List[str]): The list of bit string patterns to save."
      ]
    },
    {
      "cell_type": "markdown",
      "id": "d5057337-8083-4d09-af01-b9e1e9c4b50d",
      "metadata": {
        "id": "d5057337-8083-4d09-af01-b9e1e9c4b50d"
      },
      "source": [
        "### update\n",
        "`update(x, q)`\n",
        "\n",
        "Parses and updates a quantum register based on a query string.\n",
        "\n",
        "**Args**\n",
        "* `x` (QuantumRegister): The quantum register.\n",
        "* `q` (str): The query string.\n",
        "\n",
        "**Returns**\n",
        "* `Tuple[QuantumRegister, str]`: The updated quantum register and query string."
      ]
    },
    {
      "cell_type": "markdown",
      "id": "4602b370-0543-4f40-b586-7ea91f95f41e",
      "metadata": {
        "id": "4602b370-0543-4f40-b586-7ea91f95f41e"
      },
      "source": [
        "### grover_diffusion\n",
        "`grover_diffusion(qc, x)`\n",
        "\n",
        "Performs the inversion about the mean operation in Grover's algorithm.\n",
        "\n",
        "**Args**\n",
        "* `qc` (QuantumCircuit): The quantum circuit.\n",
        "* `x` (QuantumRegister): The quantum register."
      ]
    },
    {
      "cell_type": "markdown",
      "id": "3567bd28-9c08-49ba-ad74-49293b613ec3",
      "metadata": {
        "id": "3567bd28-9c08-49ba-ad74-49293b613ec3"
      },
      "source": [
        "### grover_search\n",
        "`grover_search(qc, x, c, output, xc, cc, R, s, patterns, problem=\"pattern_completion\")`\n",
        "\n",
        "Implements Grover's search algorithm with a modified Grover iteration.\n",
        "\n",
        "**Args**\n",
        "* `qc` (QuantumCircuit): The quantum circuit.\n",
        "* `x` (QuantumRegister): The quantum register for input bits.\n",
        "* `c` (ClassicalRegister): The classical register for output bits.\n",
        "* `output` (list): The output qubits.\n",
        "* `xc` (QuantumRegister): The ancillary quantum register.\n",
        "* `cc` (ClassicalRegister): The ancillary classical register.\n",
        "* `R` (int): Number of iterations.\n",
        "* `s` (int): The target bit pattern.\n",
        "* `patterns` (List[str]): The list of bit string patterns.\n",
        "* `problem` (str): The problem type. Defaults to \"pattern_completion\"."
      ]
    },
    {
      "cell_type": "markdown",
      "id": "d03df475-1b21-4bc8-90ae-802b4366aba1",
      "metadata": {
        "id": "d03df475-1b21-4bc8-90ae-802b4366aba1"
      },
      "source": [
        "### QuAM\n",
        "`QuAM(patterns, search=None)`\n",
        "\n",
        "Implements Quantum Associative Memory (QuAM), which stores and retrieves bit string patterns.\n",
        "\n",
        "**Args**\n",
        "* `patterns` (List[str]): The list of bit string patterns.\n",
        "* `search` (str): The target bit string for search. Defaults to `None`.\n",
        "\n",
        "**Returns**\n",
        "* `Tuple[str, dict]`: The quantum state and the result data if `search` is provided. If not, only the quantum state is returned."
      ]
    },
    {
      "cell_type": "code",
      "execution_count": 42,
      "id": "6641a380-4a48-4e05-83e5-b956d62d8cf0",
      "metadata": {
        "colab": {
          "base_uri": "https://localhost:8080/",
          "height": 510
        },
        "id": "6641a380-4a48-4e05-83e5-b956d62d8cf0",
        "outputId": "dd28ead4-7265-40ad-b1a7-1075b1e17086"
      },
      "outputs": [
        {
          "output_type": "stream",
          "name": "stdout",
          "text": [
            "['1111', '1010', '0011', '0101']\n",
            "0.50 |0011> + 0.50 |0101> + 0.50 |1010> + 0.50 |1111>\n"
          ]
        },
        {
          "output_type": "execute_result",
          "data": {
            "text/plain": [
              "<Figure size 640x480 with 1 Axes>"
            ],
            "image/png": "[encoded data removed]"
          },
          "metadata": {},
          "execution_count": 42
        }
      ],
      "source": [
        "from qiskit.visualization import plot_histogram\n",
        "\n",
        "patterns = pu.generate_patterns(4,4)\n",
        "state, data = QUAM.QuAM(patterns, search=\"110?\")\n",
        "print(patterns)\n",
        "print(state)\n",
        "plot_histogram(data)"
      ]
    }
  ],
  "metadata": {
    "kernelspec": {
      "display_name": "Python 3 (ipykernel)",
      "language": "python",
      "name": "python3"
    },
    "language_info": {
      "codemirror_mode": {
        "name": "ipython",
        "version": 3
      },
      "file_extension": ".py",
      "mimetype": "text/x-python",
      "name": "python",
      "nbconvert_exporter": "python",
      "pygments_lexer": "ipython3",
      "version": "3.11.0"
    },
    "colab": {
      "provenance": []
    }
  },
  "nbformat": 4,
  "nbformat_minor": 5
}